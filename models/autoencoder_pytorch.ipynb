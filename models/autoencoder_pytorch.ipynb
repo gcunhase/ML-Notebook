{
  "nbformat": 4,
  "nbformat_minor": 0,
  "metadata": {
    "colab": {
      "name": "autoencoder_pytorch.ipynb",
      "version": "0.3.2",
      "provenance": [],
      "collapsed_sections": [],
      "include_colab_link": true
    },
    "kernelspec": {
      "name": "python3",
      "display_name": "Python 3"
    },
    "accelerator": "GPU"
  },
  "cells": [
    {
      "cell_type": "markdown",
      "metadata": {
        "id": "view-in-github",
        "colab_type": "text"
      },
      "source": [
        "<a href=\"https://colab.research.google.com/github/gcunhase/ML-Notebook/blob/master/models/autoencoder_pytorch.ipynb\" target=\"_parent\"><img src=\"https://colab.research.google.com/assets/colab-badge.svg\" alt=\"Open In Colab\"/></a>"
      ]
    },
    {
      "metadata": {
        "id": "mMVSxHYxQwb9",
        "colab_type": "text"
      },
      "cell_type": "markdown",
      "source": [
        "# Autoencoder"
      ]
    },
    {
      "metadata": {
        "id": "IFbLjDydRpOz",
        "colab_type": "text"
      },
      "cell_type": "markdown",
      "source": [
        "## 1. Libraries\n",
        "\n",
        "*Installing and importing necessary packages*\n",
        "\n",
        "*Working with **Python 3.6** and **PyTorch 1.0.1** *"
      ]
    },
    {
      "metadata": {
        "id": "_Qk9yvgcRBGJ",
        "colab_type": "code",
        "colab": {
          "base_uri": "https://localhost:8080/",
          "height": 255
        },
        "outputId": "aff04e2d-62a6-4f19-c25e-ad4a4d8a8ad7"
      },
      "cell_type": "code",
      "source": [
        "import sys\n",
        "import os\n",
        "!{sys.executable} -m pip install torch torchvision matplotlib\n",
        "\n",
        "import torch\n",
        "import torch.nn as nn\n",
        "import torchvision.datasets as datasets\n",
        "import torchvision.transforms as transforms\n",
        "\n",
        "%matplotlib inline\n",
        "import matplotlib\n",
        "import matplotlib.pyplot as plt\n",
        "\n",
        "from timeit import default_timer as timer\n",
        "import numpy as np\n",
        "\n",
        "print(\"PyTorch version: {}\".format(torch.__version__))\n",
        "cudnn_enabled = torch.backends.cudnn.enabled\n",
        "print(\"CuDNN enabled\" if cudnn_enabled else \"CuDNN disabled\")"
      ],
      "execution_count": 68,
      "outputs": [
        {
          "output_type": "stream",
          "text": [
            "Requirement already satisfied: torch in /usr/local/lib/python3.6/dist-packages (1.0.1.post2)\n",
            "Requirement already satisfied: torchvision in /usr/local/lib/python3.6/dist-packages (0.2.2.post3)\n",
            "Requirement already satisfied: matplotlib in /usr/local/lib/python3.6/dist-packages (3.0.3)\n",
            "Requirement already satisfied: pillow>=4.1.1 in /usr/local/lib/python3.6/dist-packages (from torchvision) (4.1.1)\n",
            "Requirement already satisfied: six in /usr/local/lib/python3.6/dist-packages (from torchvision) (1.11.0)\n",
            "Requirement already satisfied: numpy in /usr/local/lib/python3.6/dist-packages (from torchvision) (1.14.6)\n",
            "Requirement already satisfied: cycler>=0.10 in /usr/local/lib/python3.6/dist-packages (from matplotlib) (0.10.0)\n",
            "Requirement already satisfied: kiwisolver>=1.0.1 in /usr/local/lib/python3.6/dist-packages (from matplotlib) (1.0.1)\n",
            "Requirement already satisfied: python-dateutil>=2.1 in /usr/local/lib/python3.6/dist-packages (from matplotlib) (2.5.3)\n",
            "Requirement already satisfied: pyparsing!=2.0.4,!=2.1.2,!=2.1.6,>=2.0.1 in /usr/local/lib/python3.6/dist-packages (from matplotlib) (2.3.1)\n",
            "Requirement already satisfied: olefile in /usr/local/lib/python3.6/dist-packages (from pillow>=4.1.1->torchvision) (0.46)\n",
            "Requirement already satisfied: setuptools in /usr/local/lib/python3.6/dist-packages (from kiwisolver>=1.0.1->matplotlib) (40.8.0)\n",
            "PyTorch version: 1.0.1.post2\n",
            "CuDNN enabled\n"
          ],
          "name": "stdout"
        }
      ]
    },
    {
      "metadata": {
        "id": "Gg4G8EsbRDz-",
        "colab_type": "text"
      },
      "cell_type": "markdown",
      "source": [
        "## 2. Variables"
      ]
    },
    {
      "metadata": {
        "id": "wmYeH6gcRHan",
        "colab_type": "code",
        "colab": {
          "base_uri": "https://localhost:8080/",
          "height": 34
        },
        "outputId": "7b100412-438b-4f36-f0ba-f793a706eac1"
      },
      "cell_type": "code",
      "source": [
        "# Make reproducible run\n",
        "torch.manual_seed(1)\n",
        "\n",
        "# Settable parameters\n",
        "params = {'root': './data/',\n",
        "          'results_dir': './results/',\n",
        "          'model_type': 'simple',  # simple, convolutional\n",
        "          'batch_size': 128,\n",
        "          'epochs': 100,\n",
        "          'save_ep': 1,\n",
        "          'lr': 0.001,\n",
        "          'weight_decay': 5e-4,  # 1e-10,\n",
        "          'num_classes': 10,\n",
        "          'hidden_size': [128, 64, 12],\n",
        "          'input_height': 28,\n",
        "          'input_width': 28,\n",
        "          'use_cuda': True,\n",
        "         }\n",
        "\n",
        "# GPU usage\n",
        "print(\"GPU: {}, number: {}\".format(torch.cuda.is_available(), torch.cuda.device_count()))\n",
        "device = torch.device('cuda') if params['use_cuda'] and torch.cuda.is_available() else torch.device('cpu')\n",
        "\n",
        "# Ensure results directory exists\n",
        "if not os.path.exists(params['results_dir']):\n",
        "    os.mkdir(params['results_dir'])"
      ],
      "execution_count": 88,
      "outputs": [
        {
          "output_type": "stream",
          "text": [
            "GPU: True, number: 1\n"
          ],
          "name": "stdout"
        }
      ]
    },
    {
      "metadata": {
        "id": "NYEXS6ZpRF9K",
        "colab_type": "text"
      },
      "cell_type": "markdown",
      "source": [
        "## 3. Dataset"
      ]
    },
    {
      "metadata": {
        "id": "ycx9luYsRQgL",
        "colab_type": "code",
        "colab": {
          "base_uri": "https://localhost:8080/",
          "height": 34
        },
        "outputId": "ee5229e3-e52f-4fc7-8abc-9378c5e21144"
      },
      "cell_type": "code",
      "source": [
        "# Get train and test datasets\n",
        "# trans = transforms.Compose([transforms.ToTensor(), transforms.Normalize((0.5,), (1.0,))])\n",
        "trans = transforms.Compose([transforms.ToTensor()])\n",
        "mnist_train = datasets.MNIST(\n",
        "    root=params['root'],  # directory where the data is or where it will be saved\n",
        "    train=True,  # train dataset\n",
        "    download=True,  # download if you don't have it\n",
        "    transform=trans)  # converts PIL.image or np.ndarray to torch.FloatTensor of shape (C, H, W) and normalizes from (0.0, 1.0)\n",
        "mnist_test = datasets.MNIST(root=params['root'], train=False, download=True, transform=trans)  # transforms.ToTensor()\n",
        "print(\"MNIST Train {}, Test {}\".format(len(mnist_train), len(mnist_test)))\n",
        "\n",
        "# Dataloader: mini-batch during training\n",
        "mnist_train_dataloader = torch.utils.data.DataLoader(dataset=mnist_train, batch_size=params['batch_size'], shuffle=True)\n",
        "mnist_test_dataloader = torch.utils.data.DataLoader(dataset=mnist_test, batch_size=params['batch_size'], shuffle=True)"
      ],
      "execution_count": 89,
      "outputs": [
        {
          "output_type": "stream",
          "text": [
            "MNIST Train 60000, Test 10000\n"
          ],
          "name": "stdout"
        }
      ]
    },
    {
      "metadata": {
        "id": "CM5vxs6HRVIp",
        "colab_type": "text"
      },
      "cell_type": "markdown",
      "source": [
        "## 4. Model"
      ]
    },
    {
      "metadata": {
        "id": "if0n3IjBSfM0",
        "colab_type": "code",
        "colab": {}
      },
      "cell_type": "code",
      "source": [
        "class autoencoder(nn.Module):\n",
        "    def __init__(self):\n",
        "        super(autoencoder, self).__init__()\n",
        "        hidden_size = params['hidden_size']\n",
        "        self.encoder = nn.Sequential(\n",
        "            nn.Linear(params['input_height'] * params['input_width'], hidden_size[0]),\n",
        "            nn.ReLU(True),\n",
        "            nn.Linear(hidden_size[0], hidden_size[1]),\n",
        "            nn.ReLU(True),\n",
        "            nn.Linear(hidden_size[1], hidden_size[2])\n",
        "        )\n",
        "        self.decoder = nn.Sequential(\n",
        "            nn.Linear(hidden_size[2], hidden_size[1]),\n",
        "            nn.ReLU(True),\n",
        "            nn.Linear(hidden_size[1], hidden_size[0]),\n",
        "            nn.ReLU(True),\n",
        "            nn.Linear(hidden_size[0], params['input_height'] * params['input_width']),\n",
        "            nn.Tanh()\n",
        "        )\n",
        "\n",
        "    def forward(self, x):\n",
        "        out = self.encoder(x)\n",
        "        out = self.decoder(out)\n",
        "        return out"
      ],
      "execution_count": 0,
      "outputs": []
    },
    {
      "metadata": {
        "id": "wvqNKT5JTpWz",
        "colab_type": "text"
      },
      "cell_type": "markdown",
      "source": [
        "## 5. Train"
      ]
    },
    {
      "metadata": {
        "id": "GpR7aFkpTq42",
        "colab_type": "code",
        "colab": {
          "base_uri": "https://localhost:8080/",
          "height": 1965
        },
        "outputId": "0f1b1141-f44f-4a21-d0b9-bd54152052b1"
      },
      "cell_type": "code",
      "source": [
        "model = autoencoder().to(device)\n",
        "criterion = nn.MSELoss()\n",
        "optimizer = torch.optim.Adam(model.parameters(), lr=params['lr'], weight_decay=params['weight_decay'])\n",
        "\n",
        "loss_arr = []\n",
        "ep_arr = []\n",
        "model.zero_grad()\n",
        "for epoch in range(params['epochs']):\n",
        "    for i, data in enumerate(mnist_train_dataloader):\n",
        "        img, _ = data\n",
        "        img = img.view(img.size(0), -1)\n",
        "        img = img.to(device)\n",
        "        # img = Variable(img).to(device)\n",
        "        \n",
        "        # Forward\n",
        "        output = model(img)\n",
        "        loss = criterion(output, img)\n",
        "        \n",
        "        # Backward\n",
        "        optimizer.zero_grad()\n",
        "        loss.backward()\n",
        "        optimizer.step()\n",
        "        \n",
        "    if epoch % params['save_ep'] == 0:\n",
        "      print('epoch [{}/{}], loss:{:.4f}'\n",
        "            .format(epoch + 1, params['epochs'], loss.cpu().data))\n",
        "      loss_arr.append(loss.cpu().data)\n",
        "      ep_arr.append(epoch)\n",
        "      \n",
        "torch.save(model.state_dict(), params['results_dir'] + 'sim_autoencoder.pth')\n",
        "plt.plot(ep_arr, loss_arr)\n",
        "plt.show()"
      ],
      "execution_count": 91,
      "outputs": [
        {
          "output_type": "stream",
          "text": [
            "epoch [1/100], loss:0.0548\n",
            "epoch [2/100], loss:0.0549\n",
            "epoch [3/100], loss:0.0565\n",
            "epoch [4/100], loss:0.0519\n",
            "epoch [5/100], loss:0.0555\n",
            "epoch [6/100], loss:0.0527\n",
            "epoch [7/100], loss:0.0543\n",
            "epoch [8/100], loss:0.0560\n",
            "epoch [9/100], loss:0.0558\n",
            "epoch [10/100], loss:0.0566\n",
            "epoch [11/100], loss:0.0567\n",
            "epoch [12/100], loss:0.0547\n",
            "epoch [13/100], loss:0.0542\n",
            "epoch [14/100], loss:0.0542\n",
            "epoch [15/100], loss:0.0550\n",
            "epoch [16/100], loss:0.0534\n",
            "epoch [17/100], loss:0.0537\n",
            "epoch [18/100], loss:0.0532\n",
            "epoch [19/100], loss:0.0524\n",
            "epoch [20/100], loss:0.0535\n",
            "epoch [21/100], loss:0.0521\n",
            "epoch [22/100], loss:0.0525\n",
            "epoch [23/100], loss:0.0549\n",
            "epoch [24/100], loss:0.0548\n",
            "epoch [25/100], loss:0.0551\n",
            "epoch [26/100], loss:0.0527\n",
            "epoch [27/100], loss:0.0535\n",
            "epoch [28/100], loss:0.0519\n",
            "epoch [29/100], loss:0.0558\n",
            "epoch [30/100], loss:0.0528\n",
            "epoch [31/100], loss:0.0517\n",
            "epoch [32/100], loss:0.0536\n",
            "epoch [33/100], loss:0.0505\n",
            "epoch [34/100], loss:0.0517\n",
            "epoch [35/100], loss:0.0511\n",
            "epoch [36/100], loss:0.0516\n",
            "epoch [37/100], loss:0.0536\n",
            "epoch [38/100], loss:0.0548\n",
            "epoch [39/100], loss:0.0562\n",
            "epoch [40/100], loss:0.0563\n",
            "epoch [41/100], loss:0.0572\n",
            "epoch [42/100], loss:0.0527\n",
            "epoch [43/100], loss:0.0533\n",
            "epoch [44/100], loss:0.0523\n",
            "epoch [45/100], loss:0.0547\n",
            "epoch [46/100], loss:0.0538\n",
            "epoch [47/100], loss:0.0569\n",
            "epoch [48/100], loss:0.0531\n",
            "epoch [49/100], loss:0.0559\n",
            "epoch [50/100], loss:0.0586\n",
            "epoch [51/100], loss:0.0557\n",
            "epoch [52/100], loss:0.0516\n",
            "epoch [53/100], loss:0.0523\n",
            "epoch [54/100], loss:0.0567\n",
            "epoch [55/100], loss:0.0592\n",
            "epoch [56/100], loss:0.0566\n",
            "epoch [57/100], loss:0.0545\n",
            "epoch [58/100], loss:0.0541\n",
            "epoch [59/100], loss:0.0561\n",
            "epoch [60/100], loss:0.0498\n",
            "epoch [61/100], loss:0.0551\n",
            "epoch [62/100], loss:0.0537\n",
            "epoch [63/100], loss:0.0510\n",
            "epoch [64/100], loss:0.0529\n",
            "epoch [65/100], loss:0.0530\n",
            "epoch [66/100], loss:0.0531\n",
            "epoch [67/100], loss:0.0540\n",
            "epoch [68/100], loss:0.0556\n",
            "epoch [69/100], loss:0.0537\n",
            "epoch [70/100], loss:0.0516\n",
            "epoch [71/100], loss:0.0549\n",
            "epoch [72/100], loss:0.0536\n",
            "epoch [73/100], loss:0.0548\n",
            "epoch [74/100], loss:0.0570\n",
            "epoch [75/100], loss:0.0499\n",
            "epoch [76/100], loss:0.0561\n",
            "epoch [77/100], loss:0.0535\n",
            "epoch [78/100], loss:0.0569\n",
            "epoch [79/100], loss:0.0538\n",
            "epoch [80/100], loss:0.0560\n",
            "epoch [81/100], loss:0.0538\n",
            "epoch [82/100], loss:0.0545\n",
            "epoch [83/100], loss:0.0517\n",
            "epoch [84/100], loss:0.0538\n",
            "epoch [85/100], loss:0.0563\n",
            "epoch [86/100], loss:0.0536\n",
            "epoch [87/100], loss:0.0548\n",
            "epoch [88/100], loss:0.0542\n",
            "epoch [89/100], loss:0.0509\n",
            "epoch [90/100], loss:0.0554\n",
            "epoch [91/100], loss:0.0561\n",
            "epoch [92/100], loss:0.0549\n",
            "epoch [93/100], loss:0.0537\n",
            "epoch [94/100], loss:0.0566\n",
            "epoch [95/100], loss:0.0563\n",
            "epoch [96/100], loss:0.0523\n",
            "epoch [97/100], loss:0.0546\n",
            "epoch [98/100], loss:0.0532\n",
            "epoch [99/100], loss:0.0512\n",
            "epoch [100/100], loss:0.0527\n"
          ],
          "name": "stdout"
        },
        {
          "output_type": "display_data",
          "data": {
            "image/png": "[encoded data removed]",
            "text/plain": [
              "<Figure size 432x288 with 1 Axes>"
            ]
          },
          "metadata": {
            "tags": []
          }
        }
      ]
    },
    {
      "metadata": {
        "id": "y3YV2iP_C4CT",
        "colab_type": "text"
      },
      "cell_type": "markdown",
      "source": [
        "## 6. Test"
      ]
    },
    {
      "metadata": {
        "id": "7YThT61OC7vS",
        "colab_type": "code",
        "colab": {
          "base_uri": "https://localhost:8080/",
          "height": 251
        },
        "outputId": "b2c601c6-69c8-46b3-bcde-09414d786bb8"
      },
      "cell_type": "code",
      "source": [
        "model.eval()\n",
        "\n",
        "examples = enumerate(mnist_test_dataloader)\n",
        "batch_idx, (example_data, example_targets) = next(examples)\n",
        "\n",
        "ncols = 4\n",
        "\n",
        "fig, axes = plt.subplots(nrows=2, ncols=ncols)\n",
        "for i, ax in enumerate(axes.flat):\n",
        "  # Original images\n",
        "  if i < ncols:\n",
        "    idx = i\n",
        "    img = example_data[idx][0]\n",
        "  else:  # Reconstructed images\n",
        "    idx = i-ncols\n",
        "    img = example_data[idx][0]\n",
        "    img = img.view(-1)\n",
        "    img = img.to(device)\n",
        "  \n",
        "    output = model(img)\n",
        "    pic = output.cpu().data\n",
        "    pic = pic.view(-1, params['input_height'], params['input_width'])\n",
        "    img = pic[0]  \n",
        "    \n",
        "  ax.imshow(img)\n",
        "  if i < ncols:\n",
        "    ax.set_title('{}'.format(example_targets[idx]))\n",
        "  ax.set_xticks([])\n",
        "  ax.set_yticks([])\n",
        "  plt.tight_layout()"
      ],
      "execution_count": 96,
      "outputs": [
        {
          "output_type": "display_data",
          "data": {
            "image/png": "[encoded data removed]",
            "text/plain": [
              "<Figure size 432x288 with 8 Axes>"
            ]
          },
          "metadata": {
            "tags": []
          }
        }
      ]
    }
  ]
}