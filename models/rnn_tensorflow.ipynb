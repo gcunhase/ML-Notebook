{
  "nbformat": 4,
  "nbformat_minor": 0,
  "metadata": {
    "colab": {
      "name": "rnn_tensorflow.ipynb",
      "version": "0.3.2",
      "provenance": [],
      "collapsed_sections": [],
      "include_colab_link": true
    },
    "kernelspec": {
      "name": "python3",
      "display_name": "Python 3"
    },
    "accelerator": "GPU"
  },
  "cells": [
    {
      "cell_type": "markdown",
      "metadata": {
        "id": "view-in-github",
        "colab_type": "text"
      },
      "source": [
        "<a href=\"https://colab.research.google.com/github/gcunhase/ML-Notebook/blob/master/models/rnn_tensorflow.ipynb\" target=\"_parent\"><img src=\"https://colab.research.google.com/assets/colab-badge.svg\" alt=\"Open In Colab\"/></a>"
      ]
    },
    {
      "metadata": {
        "id": "komM0p7jHNWf",
        "colab_type": "text"
      },
      "cell_type": "markdown",
      "source": [
        "# Recurrent Neural Network"
      ]
    },
    {
      "metadata": {
        "id": "8QjsOJ8uHS27",
        "colab_type": "text"
      },
      "cell_type": "markdown",
      "source": [
        "## 1. Libraries\n",
        "*Installing and importing necessary packages*"
      ]
    },
    {
      "metadata": {
        "id": "BwCoRr4IHYeb",
        "colab_type": "code",
        "outputId": "c27aeae5-4ab2-4ac8-f5e6-2620a1b70230",
        "colab": {
          "base_uri": "https://localhost:8080/",
          "height": 445
        }
      },
      "cell_type": "code",
      "source": [
        "!pip install tensorflow-gpu\n",
        "import tensorflow as tf\n",
        "from tensorflow.examples.tutorials.mnist import input_data\n",
        "from tensorflow.contrib import rnn\n",
        "from tensorflow.nn.rnn_cell import LSTMCell\n",
        "\n",
        "import matplotlib.pyplot as plt\n",
        "import numpy as np\n",
        "from timeit import default_timer as timer "
      ],
      "execution_count": 1,
      "outputs": [
        {
          "output_type": "stream",
          "text": [
            "Collecting tensorflow-gpu\n",
            "\u001b[?25l  Downloading https://files.pythonhosted.org/packages/7b/b1/0ad4ae02e17ddd62109cd54c291e311c4b5fd09b4d0678d3d6ce4159b0f0/tensorflow_gpu-1.13.1-cp36-cp36m-manylinux1_x86_64.whl (345.2MB)\n",
            "\u001b[K    100% |████████████████████████████████| 345.2MB 49kB/s \n",
            "\u001b[?25hRequirement already satisfied: tensorboard<1.14.0,>=1.13.0 in /usr/local/lib/python3.6/dist-packages (from tensorflow-gpu) (1.13.1)\n",
            "Requirement already satisfied: absl-py>=0.1.6 in /usr/local/lib/python3.6/dist-packages (from tensorflow-gpu) (0.7.1)\n",
            "Requirement already satisfied: tensorflow-estimator<1.14.0rc0,>=1.13.0 in /usr/local/lib/python3.6/dist-packages (from tensorflow-gpu) (1.13.0)\n",
            "Requirement already satisfied: wheel>=0.26 in /usr/local/lib/python3.6/dist-packages (from tensorflow-gpu) (0.33.1)\n",
            "Requirement already satisfied: keras-applications>=1.0.6 in /usr/local/lib/python3.6/dist-packages (from tensorflow-gpu) (1.0.7)\n",
            "Requirement already satisfied: astor>=0.6.0 in /usr/local/lib/python3.6/dist-packages (from tensorflow-gpu) (0.7.1)\n",
            "Requirement already satisfied: keras-preprocessing>=1.0.5 in /usr/local/lib/python3.6/dist-packages (from tensorflow-gpu) (1.0.9)\n",
            "Requirement already satisfied: numpy>=1.13.3 in /usr/local/lib/python3.6/dist-packages (from tensorflow-gpu) (1.14.6)\n",
            "Requirement already satisfied: gast>=0.2.0 in /usr/local/lib/python3.6/dist-packages (from tensorflow-gpu) (0.2.2)\n",
            "Requirement already satisfied: termcolor>=1.1.0 in /usr/local/lib/python3.6/dist-packages (from tensorflow-gpu) (1.1.0)\n",
            "Requirement already satisfied: grpcio>=1.8.6 in /usr/local/lib/python3.6/dist-packages (from tensorflow-gpu) (1.15.0)\n",
            "Requirement already satisfied: six>=1.10.0 in /usr/local/lib/python3.6/dist-packages (from tensorflow-gpu) (1.11.0)\n",
            "Requirement already satisfied: protobuf>=3.6.1 in /usr/local/lib/python3.6/dist-packages (from tensorflow-gpu) (3.7.1)\n",
            "Requirement already satisfied: werkzeug>=0.11.15 in /usr/local/lib/python3.6/dist-packages (from tensorboard<1.14.0,>=1.13.0->tensorflow-gpu) (0.15.1)\n",
            "Requirement already satisfied: markdown>=2.6.8 in /usr/local/lib/python3.6/dist-packages (from tensorboard<1.14.0,>=1.13.0->tensorflow-gpu) (3.1)\n",
            "Requirement already satisfied: mock>=2.0.0 in /usr/local/lib/python3.6/dist-packages (from tensorflow-estimator<1.14.0rc0,>=1.13.0->tensorflow-gpu) (2.0.0)\n",
            "Requirement already satisfied: h5py in /usr/local/lib/python3.6/dist-packages (from keras-applications>=1.0.6->tensorflow-gpu) (2.8.0)\n",
            "Requirement already satisfied: setuptools in /usr/local/lib/python3.6/dist-packages (from protobuf>=3.6.1->tensorflow-gpu) (40.8.0)\n",
            "Requirement already satisfied: pbr>=0.11 in /usr/local/lib/python3.6/dist-packages (from mock>=2.0.0->tensorflow-estimator<1.14.0rc0,>=1.13.0->tensorflow-gpu) (5.1.3)\n",
            "Installing collected packages: tensorflow-gpu\n",
            "Successfully installed tensorflow-gpu-1.13.1\n"
          ],
          "name": "stdout"
        }
      ]
    },
    {
      "metadata": {
        "id": "8dc9zFg73RZ-",
        "colab_type": "text"
      },
      "cell_type": "markdown",
      "source": [
        "*List available devices*"
      ]
    },
    {
      "metadata": {
        "id": "gDTfbjcSs8uG",
        "colab_type": "code",
        "outputId": "b3af40a8-73de-4b31-a606-6cbd3c4a8f64",
        "colab": {
          "base_uri": "https://localhost:8080/",
          "height": 544
        }
      },
      "cell_type": "code",
      "source": [
        "from tensorflow.python.client import device_lib\n",
        "print(device_lib.list_local_devices())"
      ],
      "execution_count": 8,
      "outputs": [
        {
          "output_type": "stream",
          "text": [
            "[name: \"/device:CPU:0\"\n",
            "device_type: \"CPU\"\n",
            "memory_limit: 268435456\n",
            "locality {\n",
            "}\n",
            "incarnation: 12196637832052180843\n",
            ", name: \"/device:XLA_GPU:0\"\n",
            "device_type: \"XLA_GPU\"\n",
            "memory_limit: 17179869184\n",
            "locality {\n",
            "}\n",
            "incarnation: 9347882029613591262\n",
            "physical_device_desc: \"device: XLA_GPU device\"\n",
            ", name: \"/device:XLA_CPU:0\"\n",
            "device_type: \"XLA_CPU\"\n",
            "memory_limit: 17179869184\n",
            "locality {\n",
            "}\n",
            "incarnation: 11559948176051566735\n",
            "physical_device_desc: \"device: XLA_CPU device\"\n",
            ", name: \"/device:GPU:0\"\n",
            "device_type: \"GPU\"\n",
            "memory_limit: 8914396775\n",
            "locality {\n",
            "  bus_id: 1\n",
            "  links {\n",
            "  }\n",
            "}\n",
            "incarnation: 14963952587780468429\n",
            "physical_device_desc: \"device: 0, name: Tesla K80, pci bus id: 0000:00:04.0, compute capability: 3.7\"\n",
            "]\n"
          ],
          "name": "stdout"
        }
      ]
    },
    {
      "metadata": {
        "id": "Lq_7RUzDFU20",
        "colab_type": "text"
      },
      "cell_type": "markdown",
      "source": [
        "## 2. Dataset\n",
        "*Data is split in 3 parts* : `mnist.train` (55,000 images), `mnist.test` (10,000 images), and `mnist.validation` (5,000 images)"
      ]
    },
    {
      "metadata": {
        "id": "mMXS2_PQFbXN",
        "colab_type": "code",
        "outputId": "bf099f3b-bb50-46a8-e08a-b9ec34282172",
        "colab": {
          "base_uri": "https://localhost:8080/",
          "height": 85
        }
      },
      "cell_type": "code",
      "source": [
        "mnist = input_data.read_data_sets(\"./data/\", one_hot=True)"
      ],
      "execution_count": 9,
      "outputs": [
        {
          "output_type": "stream",
          "text": [
            "Extracting ./data/train-images-idx3-ubyte.gz\n",
            "Extracting ./data/train-labels-idx1-ubyte.gz\n",
            "Extracting ./data/t10k-images-idx3-ubyte.gz\n",
            "Extracting ./data/t10k-labels-idx1-ubyte.gz\n"
          ],
          "name": "stdout"
        }
      ]
    },
    {
      "metadata": {
        "id": "xflZKkSMHc1E",
        "colab_type": "text"
      },
      "cell_type": "markdown",
      "source": [
        "## 3. Variables\n",
        "*Indicate the root directory where the data must be downloaded, the directory where the results should be saved and the type of RNN (conventional, LSTM, GRU) and its respective hyper-parameters*"
      ]
    },
    {
      "metadata": {
        "id": "YxhT6SpBSt46",
        "colab_type": "text"
      },
      "cell_type": "markdown",
      "source": [
        "### Constants"
      ]
    },
    {
      "metadata": {
        "id": "vVBfSALMSWcv",
        "colab_type": "code",
        "colab": {}
      },
      "cell_type": "code",
      "source": [
        "# Define constants\n",
        "params = {\n",
        "  'num_hidden_units': 128,  # hidden layer\n",
        "  'n_input': 28,  # MNIST data input (img shape: 28*28)\n",
        "  'time_steps': 28,\n",
        "  'lr': 0.001,\n",
        "  'n_classes': 10,  # class 0-9\n",
        "  'batch_size': 128,\n",
        "  'cell_type': 'RNN',  # Options = [RNN, LSTM, GRU]\n",
        "  'step': 10000,\n",
        "  'display_step': 200,\n",
        "  'use_gpu': True\n",
        "}\n"
      ],
      "execution_count": 0,
      "outputs": []
    },
    {
      "metadata": {
        "id": "bK3ZheVcSw3c",
        "colab_type": "text"
      },
      "cell_type": "markdown",
      "source": [
        "### Placeholders"
      ]
    },
    {
      "metadata": {
        "id": "slwSHJ7oSz8I",
        "colab_type": "code",
        "colab": {}
      },
      "cell_type": "code",
      "source": [
        "# Weights and biases\n",
        "out_weights = tf.Variable(tf.random_normal([params['num_hidden_units'], params['n_classes']]))\n",
        "out_bias = tf.Variable(tf.random_normal([params['n_classes']]))\n",
        "\n",
        "# Placeholders: input image and label\n",
        "x = tf.placeholder(\"float\",[None, params['time_steps'], params['n_input']])\n",
        "y = tf.placeholder(\"float\",[None, params['n_classes']])"
      ],
      "execution_count": 0,
      "outputs": []
    },
    {
      "metadata": {
        "id": "ZsrN6fDkHowX",
        "colab_type": "text"
      },
      "cell_type": "markdown",
      "source": [
        "## 4. The Model: RNN"
      ]
    },
    {
      "metadata": {
        "id": "EqifJVXSJFbq",
        "colab_type": "text"
      },
      "cell_type": "markdown",
      "source": [
        "### Defining model"
      ]
    },
    {
      "metadata": {
        "id": "UOA8oetNFipZ",
        "colab_type": "code",
        "colab": {}
      },
      "cell_type": "code",
      "source": [
        "def RNN(x, w, b, cell_type='RNN'):\n",
        "  # Get a list of 'timesteps' tensors of shape (bs, n_input=28)\n",
        "  x_timesteps = tf.unstack(x, params['time_steps'], 1)\n",
        "  \n",
        "  # Cell definition\n",
        "  if cell_type == 'RNN':\n",
        "    rnn_layer = tf.keras.layers.SimpleRNNCell(params['num_hidden_units'])\n",
        "  elif cell_type == 'LSTM':\n",
        "    rnn_layer = tf.keras.layers.LSTMCell(params['num_hidden_units'], unit_forget_bias=True)  # rnn.BasicLSTMCell(params['num_hidden_units'], forget_bias=1.0)\n",
        "  elif cell_type == 'GRU':\n",
        "    rnn_layer = tf.keras.layers.GRUCell(params['num_hidden_units'])  # rnn.GRUCell(params['num_hidden_units'])\n",
        "  \n",
        "  # Cell output\n",
        "  out, h = rnn.static_rnn(rnn_layer, x_timesteps, dtype=tf.float32)\n",
        "\n",
        "  # Linear activation with the last output + softmax\n",
        "  pred = tf.nn.softmax(tf.matmul(out[-1], w) + b)\n",
        "  return pred"
      ],
      "execution_count": 0,
      "outputs": []
    },
    {
      "metadata": {
        "id": "OFpv2PTOJIFy",
        "colab_type": "text"
      },
      "cell_type": "markdown",
      "source": [
        "### Instantiating model"
      ]
    },
    {
      "metadata": {
        "id": "ds4X2AbOJJ-6",
        "colab_type": "code",
        "colab": {}
      },
      "cell_type": "code",
      "source": [
        "prediction = RNN(x, out_weights, out_bias, cell_type=params['cell_type'])\n",
        "\n",
        "# Loss: cross-entropy\n",
        "loss_op = tf.reduce_mean(tf.nn.softmax_cross_entropy_with_logits_v2(logits=prediction, labels=y))\n",
        "\n",
        "# Optimizer: gradient descent\n",
        "optimizer = tf.train.GradientDescentOptimizer(learning_rate=params['lr'])\n",
        "train_op = optimizer.minimize(loss_op)\n",
        "\n",
        "# Evaluate model (with test logits, for dropout to be disabled)\n",
        "pred = tf.argmax(prediction, 1)\n",
        "tar = tf.argmax(y, 1)\n",
        "correct_prediction = tf.equal(tf.argmax(prediction, 1), tf.argmax(y, 1))\n",
        "accuracy = tf.reduce_mean(tf.cast(correct_prediction, tf.float32))"
      ],
      "execution_count": 0,
      "outputs": []
    },
    {
      "metadata": {
        "id": "Vi6B8vuiHrJv",
        "colab_type": "text"
      },
      "cell_type": "markdown",
      "source": [
        "## 5. Train\n",
        "*Start session and run*"
      ]
    },
    {
      "metadata": {
        "id": "EAH9Y8ezNCbM",
        "colab_type": "code",
        "outputId": "8fbc56e2-a2e7-4c3e-bb3a-9daaaffb4760",
        "colab": {
          "base_uri": "https://localhost:8080/",
          "height": 1277
        }
      },
      "cell_type": "code",
      "source": [
        "start_timer = timer()\n",
        "\n",
        "# Make global session to use in test later\n",
        "#  otherwise create local session with 'with tf.Session() as sess:\n",
        "sess = tf.Session(config=tf.ConfigProto(log_device_placement=True))\n",
        "\n",
        "# Run initializer: initializes variables with their assigned values\n",
        "init = tf.global_variables_initializer()\n",
        "print(sess.run(init))\n",
        "\n",
        "loss_arr = []\n",
        "step_arr = []\n",
        "train_arr = []\n",
        "for step in range(1, params['step']+1):\n",
        "    # Next batch returns (bs, 28*28)\n",
        "    batch_x, batch_y = mnist.train.next_batch(batch_size=params['batch_size'])\n",
        "        \n",
        "    # Reshape data to (bs, 28, 28)\n",
        "    batch_x = batch_x.reshape((params['batch_size'], params['time_steps'], params['n_input']))\n",
        "        \n",
        "    # Backpropagation: run train_op variable\n",
        "    sess.run(train_op, feed_dict={x: batch_x, y: batch_y})\n",
        "        \n",
        "    # Calculate batch loss (loss_op) and accuracy\n",
        "    if step % params['display_step'] == 0 or step == 1:\n",
        "        loss, acc = sess.run([loss_op, accuracy], feed_dict={x: batch_x, y: batch_y})\n",
        "        loss_arr.append(loss)\n",
        "        step_arr.append(step)\n",
        "        train_arr.append(acc)\n",
        "        print(\"Step {}, Minibatch loss {:.4f}, Train acc {:.4f}, Best train acc {:.4f}\".format(step, loss, acc, max(train_arr)))\n",
        "        \n",
        "# Plot training loss curve\n",
        "plt.plot(step_arr, loss_arr)\n",
        "plt.title('Training loss curve')\n",
        "plt.xlabel('Step')\n",
        "plt.ylabel('Loss')\n",
        "plt.show()\n",
        "\n",
        "end_timer = timer() - start_timer\n",
        "\n",
        "print(\"Model took {:.4f} mins ({:.4f} hrs) to finish training with best train accuracy of {:.4f}%\".format(end_timer/60, end_timer/3600, max(train_arr)*100))"
      ],
      "execution_count": 31,
      "outputs": [
        {
          "output_type": "stream",
          "text": [
            "None\n",
            "Step 1, Minibatch loss 2.3247, Train acc 0.0938, Best train acc 0.0938\n",
            "Step 200, Minibatch loss 2.1462, Train acc 0.3281, Best train acc 0.3281\n",
            "Step 400, Minibatch loss 2.0478, Train acc 0.3984, Best train acc 0.3984\n",
            "Step 600, Minibatch loss 1.9998, Train acc 0.4844, Best train acc 0.4844\n",
            "Step 800, Minibatch loss 1.9510, Train acc 0.5312, Best train acc 0.5312\n",
            "Step 1000, Minibatch loss 1.9322, Train acc 0.5391, Best train acc 0.5391\n",
            "Step 1200, Minibatch loss 1.8984, Train acc 0.5938, Best train acc 0.5938\n",
            "Step 1400, Minibatch loss 1.8086, Train acc 0.6562, Best train acc 0.6562\n",
            "Step 1600, Minibatch loss 1.8282, Train acc 0.6562, Best train acc 0.6562\n",
            "Step 1800, Minibatch loss 1.8429, Train acc 0.6484, Best train acc 0.6562\n",
            "Step 2000, Minibatch loss 1.7698, Train acc 0.7188, Best train acc 0.7188\n",
            "Step 2200, Minibatch loss 1.8398, Train acc 0.6250, Best train acc 0.7188\n",
            "Step 2400, Minibatch loss 1.7942, Train acc 0.6953, Best train acc 0.7188\n",
            "Step 2600, Minibatch loss 1.7788, Train acc 0.6953, Best train acc 0.7188\n",
            "Step 2800, Minibatch loss 1.7858, Train acc 0.6875, Best train acc 0.7188\n",
            "Step 3000, Minibatch loss 1.7238, Train acc 0.7734, Best train acc 0.7734\n",
            "Step 3200, Minibatch loss 1.7747, Train acc 0.6953, Best train acc 0.7734\n",
            "Step 3400, Minibatch loss 1.7948, Train acc 0.6875, Best train acc 0.7734\n",
            "Step 3600, Minibatch loss 1.8059, Train acc 0.6484, Best train acc 0.7734\n",
            "Step 3800, Minibatch loss 1.6742, Train acc 0.8125, Best train acc 0.8125\n",
            "Step 4000, Minibatch loss 1.7666, Train acc 0.7031, Best train acc 0.8125\n",
            "Step 4200, Minibatch loss 1.7306, Train acc 0.7344, Best train acc 0.8125\n",
            "Step 4400, Minibatch loss 1.7389, Train acc 0.7266, Best train acc 0.8125\n",
            "Step 4600, Minibatch loss 1.7363, Train acc 0.7422, Best train acc 0.8125\n",
            "Step 4800, Minibatch loss 1.6966, Train acc 0.7734, Best train acc 0.8125\n",
            "Step 5000, Minibatch loss 1.6989, Train acc 0.7734, Best train acc 0.8125\n",
            "Step 5200, Minibatch loss 1.7163, Train acc 0.7578, Best train acc 0.8125\n",
            "Step 5400, Minibatch loss 1.6511, Train acc 0.8359, Best train acc 0.8359\n",
            "Step 5600, Minibatch loss 1.6799, Train acc 0.8047, Best train acc 0.8359\n",
            "Step 5800, Minibatch loss 1.6681, Train acc 0.8047, Best train acc 0.8359\n",
            "Step 6000, Minibatch loss 1.7231, Train acc 0.7500, Best train acc 0.8359\n",
            "Step 6200, Minibatch loss 1.6516, Train acc 0.8125, Best train acc 0.8359\n",
            "Step 6400, Minibatch loss 1.6475, Train acc 0.8203, Best train acc 0.8359\n",
            "Step 6600, Minibatch loss 1.6603, Train acc 0.8125, Best train acc 0.8359\n",
            "Step 6800, Minibatch loss 1.6209, Train acc 0.8672, Best train acc 0.8672\n",
            "Step 7000, Minibatch loss 1.6266, Train acc 0.8594, Best train acc 0.8672\n",
            "Step 7200, Minibatch loss 1.6445, Train acc 0.8203, Best train acc 0.8672\n",
            "Step 7400, Minibatch loss 1.6808, Train acc 0.7891, Best train acc 0.8672\n",
            "Step 7600, Minibatch loss 1.6909, Train acc 0.7734, Best train acc 0.8672\n",
            "Step 7800, Minibatch loss 1.6865, Train acc 0.7969, Best train acc 0.8672\n",
            "Step 8000, Minibatch loss 1.6883, Train acc 0.7734, Best train acc 0.8672\n",
            "Step 8200, Minibatch loss 1.6505, Train acc 0.8203, Best train acc 0.8672\n",
            "Step 8400, Minibatch loss 1.6576, Train acc 0.8125, Best train acc 0.8672\n",
            "Step 8600, Minibatch loss 1.6174, Train acc 0.8750, Best train acc 0.8750\n",
            "Step 8800, Minibatch loss 1.6654, Train acc 0.8125, Best train acc 0.8750\n",
            "Step 9000, Minibatch loss 1.6731, Train acc 0.7891, Best train acc 0.8750\n",
            "Step 9200, Minibatch loss 1.6235, Train acc 0.8438, Best train acc 0.8750\n",
            "Step 9400, Minibatch loss 1.6502, Train acc 0.8203, Best train acc 0.8750\n",
            "Step 9600, Minibatch loss 1.6416, Train acc 0.8281, Best train acc 0.8750\n",
            "Step 9800, Minibatch loss 1.6281, Train acc 0.8438, Best train acc 0.8750\n",
            "Step 10000, Minibatch loss 1.6146, Train acc 0.8594, Best train acc 0.8750\n"
          ],
          "name": "stdout"
        },
        {
          "output_type": "display_data",
          "data": {
            "image/png": "[encoded data removed]",
            "text/plain": [
              "<Figure size 576x396 with 1 Axes>"
            ]
          },
          "metadata": {
            "tags": []
          }
        },
        {
          "output_type": "stream",
          "text": [
            "Model took 2.4461 mins (0.0408 hrs) to finish training with best train accuracy of 87.5000%\n"
          ],
          "name": "stdout"
        }
      ]
    },
    {
      "metadata": {
        "id": "cdXKqJd6HsXp",
        "colab_type": "text"
      },
      "cell_type": "markdown",
      "source": [
        "## 6. Test"
      ]
    },
    {
      "metadata": {
        "id": "Yk68rlOSNXi5",
        "colab_type": "code",
        "outputId": "29d38b36-e6e4-4a05-ccc2-f0195a150629",
        "colab": {
          "base_uri": "https://localhost:8080/",
          "height": 418
        }
      },
      "cell_type": "code",
      "source": [
        "# Accuracy\n",
        "test_len = 128\n",
        "x_test_images = mnist.test.images[:test_len].reshape((-1, params['time_steps'], params['n_input']))\n",
        "x_test_label = mnist.test.labels[:test_len]\n",
        "print(\"Testing Accuracy: {:.2f}%\".format(sess.run(accuracy, feed_dict={x: x_test_images, y: x_test_label})*100))\n",
        "\n",
        "# Show image prediction test\n",
        "x_test_images = mnist.test.images[:4].reshape((-1, params['time_steps'], params['n_input']))\n",
        "x_test_label = mnist.test.labels[:4]\n",
        "\n",
        "x_test_prediction = sess.run(pred, feed_dict={x: x_test_images})\n",
        "x_test_target = sess.run(tar, feed_dict={y: x_test_label})\n",
        "\n",
        "fig, axes = plt.subplots(nrows=2, ncols=2)\n",
        "# axes = axes.ravel()\n",
        "\n",
        "for i, ax in enumerate(axes.flat):\n",
        "  ax.imshow(x_test_images[i]) \n",
        "  ax.set_title('Target: {} - Prediction: {}'.format(x_test_target[i], x_test_prediction[i]))\n",
        "  ax.set_xticks([])\n",
        "  ax.set_yticks([])\n",
        "plt.tight_layout()"
      ],
      "execution_count": 32,
      "outputs": [
        {
          "output_type": "stream",
          "text": [
            "Testing Accuracy: 77.34%\n"
          ],
          "name": "stdout"
        },
        {
          "output_type": "display_data",
          "data": {
            "image/png": "[encoded data removed]",
            "text/plain": [
              "<Figure size 576x396 with 4 Axes>"
            ]
          },
          "metadata": {
            "tags": []
          }
        }
      ]
    },
    {
      "metadata": {
        "id": "I3LzFz9FjjM4",
        "colab_type": "text"
      },
      "cell_type": "markdown",
      "source": [
        "## 7. Summary\n",
        "*In the MNIST task, conventional RNN performs better due to the simplicity of the task. However, in tasks involving NLP, audio or even more complex images, LSTM and GRU perform better. The reason is that RNN isn't able to model data with long-term dependencies as well due to the gradients becoming increasingly small, vanishing gradient problem.*\n",
        "\n",
        "<table align=\"left\">\n",
        "  <tr>\n",
        "    <td><b>Model</b></td><td><b>Steps</b></td><td align=\"center\"><b>Train Acc (%)</b></td><td align=\"center\"><b>Test Acc (%)</b></td><td align=\"center\"><b>Training Time (min)</b></td>\n",
        "  </tr>\n",
        "  <tr>\n",
        "    <td rowspan=\"2\">RNN</td><td>10,000</td><td align=\"center\">75.00</td><td align=\"center\">80.47</td><td align=\"center\">2.2650</td>\n",
        "  </tr>\n",
        "  <tr>\n",
        "    <td>100,000</td><td align=\"center\">99.22</td><td align=\"center\">96.88</td><td align=\"center\">23.26</td>\n",
        "  </tr>\n",
        "  <tr>\n",
        "    <td rowspan=\"2\">LSTM</td><td>10,000</td><td align=\"center\">41.41</td><td align=\"center\">39.84</td><td align=\"center\">16</td>\n",
        "  </tr>\n",
        "  <tr>\n",
        "    <td>100,000</td><td align=\"center\">84.37</td><td align=\"center\">69.53</td><td align=\"center\">161.65</td>\n",
        "  </tr>\n",
        "  <tr>\n",
        "    <td rowspan=\"2\">GRU</td><td>10,000</td><td align=\"center\">25.00</td><td align=\"center\">22.66</td><td align=\"center\">12</td>\n",
        "  </tr>\n",
        "  <tr>\n",
        "    <td>100,000</td><td align=\"center\">64</td><td align=\"center\">55.47</td><td align=\"center\">121.46</td>\n",
        "  </tr>\n",
        "</table>"
      ]
    }
  ]
}