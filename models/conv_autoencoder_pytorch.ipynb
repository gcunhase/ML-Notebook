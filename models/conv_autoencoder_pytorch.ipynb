{
  "nbformat": 4,
  "nbformat_minor": 0,
  "metadata": {
    "colab": {
      "name": "conv_autoencoder_pytorch.ipynb",
      "version": "0.3.2",
      "provenance": [],
      "collapsed_sections": [],
      "include_colab_link": true
    },
    "kernelspec": {
      "name": "python3",
      "display_name": "Python 3"
    },
    "accelerator": "GPU"
  },
  "cells": [
    {
      "cell_type": "markdown",
      "metadata": {
        "id": "view-in-github",
        "colab_type": "text"
      },
      "source": [
        "<a href=\"https://colab.research.google.com/github/gcunhase/ML-Notebook/blob/master/models/conv_autoencoder_pytorch.ipynb\" target=\"_parent\"><img src=\"https://colab.research.google.com/assets/colab-badge.svg\" alt=\"Open In Colab\"/></a>"
      ]
    },
    {
      "metadata": {
        "id": "mMVSxHYxQwb9",
        "colab_type": "text"
      },
      "cell_type": "markdown",
      "source": [
        "# Convolutional Autoencoder"
      ]
    },
    {
      "metadata": {
        "id": "IFbLjDydRpOz",
        "colab_type": "text"
      },
      "cell_type": "markdown",
      "source": [
        "## 1. Libraries\n",
        "\n",
        "*Installing and importing necessary packages*\n",
        "\n",
        "*Working with **Python 3.6** and **PyTorch 1.0.1** *"
      ]
    },
    {
      "metadata": {
        "id": "_Qk9yvgcRBGJ",
        "colab_type": "code",
        "outputId": "9ed9e3a5-5707-4d12-875c-8fa56e7fc1e2",
        "colab": {
          "base_uri": "https://localhost:8080/",
          "height": 255
        }
      },
      "cell_type": "code",
      "source": [
        "import sys\n",
        "import os\n",
        "!{sys.executable} -m pip install torch torchvision matplotlib\n",
        "\n",
        "import torch\n",
        "import torch.nn as nn\n",
        "import torchvision.datasets as datasets\n",
        "import torchvision.transforms as transforms\n",
        "from torch.autograd import Variable\n",
        "\n",
        "%matplotlib inline\n",
        "import matplotlib\n",
        "import matplotlib.pyplot as plt\n",
        "\n",
        "from timeit import default_timer as timer\n",
        "import numpy as np\n",
        "\n",
        "print(\"PyTorch version: {}\".format(torch.__version__))\n",
        "cudnn_enabled = torch.backends.cudnn.enabled\n",
        "print(\"CuDNN enabled\" if cudnn_enabled else \"CuDNN disabled\")"
      ],
      "execution_count": 13,
      "outputs": [
        {
          "output_type": "stream",
          "text": [
            "Requirement already satisfied: torch in /usr/local/lib/python3.6/dist-packages (1.0.1.post2)\n",
            "Requirement already satisfied: torchvision in /usr/local/lib/python3.6/dist-packages (0.2.2.post3)\n",
            "Requirement already satisfied: matplotlib in /usr/local/lib/python3.6/dist-packages (3.0.3)\n",
            "Requirement already satisfied: pillow>=4.1.1 in /usr/local/lib/python3.6/dist-packages (from torchvision) (4.1.1)\n",
            "Requirement already satisfied: six in /usr/local/lib/python3.6/dist-packages (from torchvision) (1.11.0)\n",
            "Requirement already satisfied: numpy in /usr/local/lib/python3.6/dist-packages (from torchvision) (1.14.6)\n",
            "Requirement already satisfied: kiwisolver>=1.0.1 in /usr/local/lib/python3.6/dist-packages (from matplotlib) (1.0.1)\n",
            "Requirement already satisfied: pyparsing!=2.0.4,!=2.1.2,!=2.1.6,>=2.0.1 in /usr/local/lib/python3.6/dist-packages (from matplotlib) (2.3.1)\n",
            "Requirement already satisfied: cycler>=0.10 in /usr/local/lib/python3.6/dist-packages (from matplotlib) (0.10.0)\n",
            "Requirement already satisfied: python-dateutil>=2.1 in /usr/local/lib/python3.6/dist-packages (from matplotlib) (2.5.3)\n",
            "Requirement already satisfied: olefile in /usr/local/lib/python3.6/dist-packages (from pillow>=4.1.1->torchvision) (0.46)\n",
            "Requirement already satisfied: setuptools in /usr/local/lib/python3.6/dist-packages (from kiwisolver>=1.0.1->matplotlib) (40.8.0)\n",
            "PyTorch version: 1.0.1.post2\n",
            "CuDNN enabled\n"
          ],
          "name": "stdout"
        }
      ]
    },
    {
      "metadata": {
        "id": "Gg4G8EsbRDz-",
        "colab_type": "text"
      },
      "cell_type": "markdown",
      "source": [
        "## 2. Variables"
      ]
    },
    {
      "metadata": {
        "id": "wmYeH6gcRHan",
        "colab_type": "code",
        "outputId": "daa2a836-1fbc-4f74-ac16-3c031a52ec80",
        "colab": {
          "base_uri": "https://localhost:8080/",
          "height": 34
        }
      },
      "cell_type": "code",
      "source": [
        "# Make reproducible run\n",
        "torch.manual_seed(1)\n",
        "\n",
        "# Settable parameters\n",
        "params = {'root': './data/',\n",
        "          'results_dir': './results/',\n",
        "          'model_type': 'convolutional',  # simple, convolutional\n",
        "          'batch_size': 128,\n",
        "          'epochs': 30,\n",
        "          'save_ep': 1,\n",
        "          'lr': 0.0001,\n",
        "          'weight_decay': 5e-4,  # 1e-10,\n",
        "          'num_classes': 10,\n",
        "          'input_height': 28,\n",
        "          'input_width': 28,\n",
        "          'use_cuda': True,\n",
        "         }\n",
        "\n",
        "# GPU usage\n",
        "print(\"GPU: {}, number: {}\".format(torch.cuda.is_available(), torch.cuda.device_count()))\n",
        "device = torch.device('cuda') if params['use_cuda'] and torch.cuda.is_available() else torch.device('cpu')\n",
        "\n",
        "# Ensure results directory exists\n",
        "if not os.path.exists(params['results_dir']):\n",
        "    os.mkdir(params['results_dir'])"
      ],
      "execution_count": 24,
      "outputs": [
        {
          "output_type": "stream",
          "text": [
            "GPU: True, number: 1\n"
          ],
          "name": "stdout"
        }
      ]
    },
    {
      "metadata": {
        "id": "NYEXS6ZpRF9K",
        "colab_type": "text"
      },
      "cell_type": "markdown",
      "source": [
        "## 3. Dataset"
      ]
    },
    {
      "metadata": {
        "id": "ycx9luYsRQgL",
        "colab_type": "code",
        "outputId": "8970844f-af87-48a7-ce0c-dff585d50df9",
        "colab": {
          "base_uri": "https://localhost:8080/",
          "height": 34
        }
      },
      "cell_type": "code",
      "source": [
        "# Get train and test datasets\n",
        "# trans = transforms.Compose([transforms.ToTensor(), transforms.Normalize((0.5,), (1.0,))])\n",
        "trans = transforms.Compose([transforms.ToTensor()])\n",
        "mnist_train = datasets.MNIST(\n",
        "    root=params['root'],  # directory where the data is or where it will be saved\n",
        "    train=True,  # train dataset\n",
        "    download=True,  # download if you don't have it\n",
        "    transform=trans)  # converts PIL.image or np.ndarray to torch.FloatTensor of shape (C, H, W) and normalizes from (0.0, 1.0)\n",
        "mnist_test = datasets.MNIST(root=params['root'], train=False, download=True, transform=trans)  # transforms.ToTensor()\n",
        "print(\"MNIST Train {}, Test {}\".format(len(mnist_train), len(mnist_test)))\n",
        "\n",
        "# Dataloader: mini-batch during training\n",
        "mnist_train_dataloader = torch.utils.data.DataLoader(dataset=mnist_train, batch_size=params['batch_size'], shuffle=True)\n",
        "mnist_test_dataloader = torch.utils.data.DataLoader(dataset=mnist_test, batch_size=params['batch_size'], shuffle=True)"
      ],
      "execution_count": 25,
      "outputs": [
        {
          "output_type": "stream",
          "text": [
            "MNIST Train 60000, Test 10000\n"
          ],
          "name": "stdout"
        }
      ]
    },
    {
      "metadata": {
        "id": "CM5vxs6HRVIp",
        "colab_type": "text"
      },
      "cell_type": "markdown",
      "source": [
        "## 4. Model\n",
        "\n",
        "`Conv2d`: *convolution in encoder*\n",
        "\n",
        "`ConvTranspose2d`: *deconvolution in decoder*"
      ]
    },
    {
      "metadata": {
        "id": "if0n3IjBSfM0",
        "colab_type": "code",
        "colab": {}
      },
      "cell_type": "code",
      "source": [
        "class autoencoder(nn.Module):\n",
        "    def __init__(self):\n",
        "        super(autoencoder, self).__init__()\n",
        "        self.encoder = nn.Sequential(\n",
        "            nn.Conv2d(1, 32, 3, padding=1),  # bs, 32, 28, 28\n",
        "            nn.ReLU(),\n",
        "            nn.BatchNorm2d(32),\n",
        "            nn.Conv2d(32, 64, 3, padding=1),  # bs, 64, 28, 28\n",
        "            nn.ReLU(),\n",
        "            nn.BatchNorm2d(64),\n",
        "            nn.MaxPool2d(2,2), # bs, 64, 14, 14\n",
        "            nn.Conv2d(64, 128, 3, padding=1),  # bs, 128, 14, 14\n",
        "            nn.ReLU(),\n",
        "            nn.BatchNorm2d(128),\n",
        "            nn.MaxPool2d(2,2), # bs, 128, 7, 7\n",
        "        )\n",
        "        self.decoder = nn.Sequential(\n",
        "            nn.ConvTranspose2d(128, 64, kernel_size=3, stride=2, padding=1, output_padding=1), # bs, 64, 14, 14\n",
        "            nn.ReLU(),\n",
        "            nn.BatchNorm2d(64),\n",
        "            nn.ConvTranspose2d(64, 32, kernel_size=3, stride=1, padding=1), # bs, 32, 14, 14\n",
        "            nn.ReLU(),\n",
        "            nn.BatchNorm2d(32),\n",
        "            nn.ConvTranspose2d(32, 1, kernel_size=3, stride=2, padding=1, output_padding=1), # bs, 1, 28, 28\n",
        "            nn.ReLU(),\n",
        "        )\n",
        "\n",
        "    def forward(self, x):\n",
        "        out = self.encoder(x)\n",
        "        out = self.decoder(out)\n",
        "        return out"
      ],
      "execution_count": 0,
      "outputs": []
    },
    {
      "metadata": {
        "id": "wvqNKT5JTpWz",
        "colab_type": "text"
      },
      "cell_type": "markdown",
      "source": [
        "## 5. Train"
      ]
    },
    {
      "metadata": {
        "id": "GpR7aFkpTq42",
        "colab_type": "code",
        "outputId": "74d34f44-27d3-4dda-8f37-5ddfaaf118b0",
        "colab": {
          "base_uri": "https://localhost:8080/",
          "height": 775
        }
      },
      "cell_type": "code",
      "source": [
        "model = autoencoder().to(device)\n",
        "criterion = nn.MSELoss()\n",
        "optimizer = torch.optim.Adam(model.parameters(), lr=params['lr'], weight_decay=params['weight_decay'])\n",
        "\n",
        "loss_arr = []\n",
        "ep_arr = []\n",
        "model.zero_grad()\n",
        "for epoch in range(params['epochs']):\n",
        "    for i, data in enumerate(mnist_train_dataloader):\n",
        "        img, _ = data  # bs, 1, 28, 28\n",
        "        img = img.to(device)\n",
        "        img = Variable(img).to(device)\n",
        "        \n",
        "        # Forward\n",
        "        output = model(img)\n",
        "        loss = criterion(output, img)\n",
        "        \n",
        "        # Backward\n",
        "        optimizer.zero_grad()\n",
        "        loss.backward()\n",
        "        optimizer.step()\n",
        "        \n",
        "    if epoch % params['save_ep'] == 0:\n",
        "      print('epoch [{}/{}], loss:{:.4f}'\n",
        "            .format(epoch + 1, params['epochs'], loss.cpu().data))\n",
        "      loss_arr.append(loss.cpu().data)\n",
        "      ep_arr.append(epoch)\n",
        "      \n",
        "torch.save(model.state_dict(), params['results_dir'] + 'conv_autoencoder.pth')\n",
        "plt.plot(ep_arr, loss_arr)\n",
        "plt.show()"
      ],
      "execution_count": 27,
      "outputs": [
        {
          "output_type": "stream",
          "text": [
            "epoch [1/30], loss:0.0063\n",
            "epoch [2/30], loss:0.0037\n",
            "epoch [3/30], loss:0.0027\n",
            "epoch [4/30], loss:0.0018\n",
            "epoch [5/30], loss:0.0013\n",
            "epoch [6/30], loss:0.0011\n",
            "epoch [7/30], loss:0.0009\n",
            "epoch [8/30], loss:0.0009\n",
            "epoch [9/30], loss:0.0008\n",
            "epoch [10/30], loss:0.0008\n",
            "epoch [11/30], loss:0.0006\n",
            "epoch [12/30], loss:0.0006\n",
            "epoch [13/30], loss:0.0010\n",
            "epoch [14/30], loss:0.0005\n",
            "epoch [15/30], loss:0.0006\n",
            "epoch [16/30], loss:0.0005\n",
            "epoch [17/30], loss:0.0005\n",
            "epoch [18/30], loss:0.0004\n",
            "epoch [19/30], loss:0.0004\n",
            "epoch [20/30], loss:0.0007\n",
            "epoch [21/30], loss:0.0004\n",
            "epoch [22/30], loss:0.0004\n",
            "epoch [23/30], loss:0.0004\n",
            "epoch [24/30], loss:0.0003\n",
            "epoch [25/30], loss:0.0004\n",
            "epoch [26/30], loss:0.0004\n",
            "epoch [27/30], loss:0.0004\n",
            "epoch [28/30], loss:0.0004\n",
            "epoch [29/30], loss:0.0005\n",
            "epoch [30/30], loss:0.0003\n"
          ],
          "name": "stdout"
        },
        {
          "output_type": "display_data",
          "data": {
            "image/png": "[encoded data removed]",
            "text/plain": [
              "<Figure size 432x288 with 1 Axes>"
            ]
          },
          "metadata": {
            "tags": []
          }
        }
      ]
    },
    {
      "metadata": {
        "id": "y3YV2iP_C4CT",
        "colab_type": "text"
      },
      "cell_type": "markdown",
      "source": [
        "## 6. Test"
      ]
    },
    {
      "metadata": {
        "id": "7YThT61OC7vS",
        "colab_type": "code",
        "outputId": "e887954a-d14a-4fcf-83c1-cdc69f55e116",
        "colab": {
          "base_uri": "https://localhost:8080/",
          "height": 251
        }
      },
      "cell_type": "code",
      "source": [
        "model.eval()\n",
        "\n",
        "examples = enumerate(mnist_test_dataloader)\n",
        "batch_idx, (example_data, example_targets) = next(examples)\n",
        "\n",
        "ncols = 4\n",
        "\n",
        "fig, axes = plt.subplots(nrows=2, ncols=ncols)\n",
        "for i, ax in enumerate(axes.flat):\n",
        "  # Original images\n",
        "  if i < ncols:\n",
        "    idx = i\n",
        "    img = example_data[idx][0]\n",
        "  else:  # Reconstructed images\n",
        "    idx = i-ncols\n",
        "    img = example_data[idx][0]\n",
        "    img = img.unsqueeze(0)\n",
        "    img = img.unsqueeze(0)\n",
        "    img = img.to(device)\n",
        "  \n",
        "    output = model(img)\n",
        "    pic = output.cpu().data\n",
        "    pic = pic.view(params['input_height'], params['input_width'])\n",
        "    img = pic\n",
        "    \n",
        "  ax.imshow(img)\n",
        "  if i < ncols:\n",
        "    ax.set_title('{}'.format(example_targets[idx]))\n",
        "  ax.set_xticks([])\n",
        "  ax.set_yticks([])\n",
        "  plt.tight_layout()"
      ],
      "execution_count": 43,
      "outputs": [
        {
          "output_type": "display_data",
          "data": {
            "image/png": "[encoded data removed]",
            "text/plain": [
              "<Figure size 432x288 with 8 Axes>"
            ]
          },
          "metadata": {
            "tags": []
          }
        }
      ]
    }
  ]
}