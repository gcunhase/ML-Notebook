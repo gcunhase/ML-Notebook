{
  "nbformat": 4,
  "nbformat_minor": 0,
  "metadata": {
    "colab": {
      "name": "rnn_pytorch.ipynb",
      "version": "0.3.2",
      "provenance": [],
      "collapsed_sections": [],
      "include_colab_link": true
    },
    "kernelspec": {
      "name": "python3",
      "display_name": "Python 3"
    },
    "accelerator": "GPU"
  },
  "cells": [
    {
      "cell_type": "markdown",
      "metadata": {
        "id": "view-in-github",
        "colab_type": "text"
      },
      "source": [
        "<a href=\"https://colab.research.google.com/github/gcunhase/ML-Notebook/blob/master/models/rnn_pytorch.ipynb\" target=\"_parent\"><img src=\"https://colab.research.google.com/assets/colab-badge.svg\" alt=\"Open In Colab\"/></a>"
      ]
    },
    {
      "metadata": {
        "collapsed": true,
        "id": "jqZrGQOG2ng-",
        "colab_type": "text"
      },
      "cell_type": "markdown",
      "source": [
        "# Recurrent Neural Network"
      ]
    },
    {
      "metadata": {
        "id": "EB7M0gMP2ng_",
        "colab_type": "text"
      },
      "cell_type": "markdown",
      "source": [
        "## 1. Libraries\n",
        "*Installing and importing necessary packages*\n",
        "\n",
        "*Working with **Python 3.6** and **PyTorch 1.0.1** *"
      ]
    },
    {
      "metadata": {
        "id": "-HDxCZeVAPb-",
        "colab_type": "code",
        "outputId": "08d09105-fa52-4196-d4d7-cca9cd92c630",
        "colab": {
          "base_uri": "https://localhost:8080/",
          "height": 289
        }
      },
      "cell_type": "code",
      "source": [
        "!nvidia-smi"
      ],
      "execution_count": 11,
      "outputs": [
        {
          "output_type": "stream",
          "text": [
            "Thu Apr  4 12:34:13 2019       \n",
            "+-----------------------------------------------------------------------------+\n",
            "| NVIDIA-SMI 418.56       Driver Version: 410.79       CUDA Version: 10.0     |\n",
            "|-------------------------------+----------------------+----------------------+\n",
            "| GPU  Name        Persistence-M| Bus-Id        Disp.A | Volatile Uncorr. ECC |\n",
            "| Fan  Temp  Perf  Pwr:Usage/Cap|         Memory-Usage | GPU-Util  Compute M. |\n",
            "|===============================+======================+======================|\n",
            "|   0  Tesla K80           Off  | 00000000:00:04.0 Off |                    0 |\n",
            "| N/A   73C    P0    73W / 149W |   2430MiB / 11441MiB |      0%      Default |\n",
            "+-------------------------------+----------------------+----------------------+\n",
            "                                                                               \n",
            "+-----------------------------------------------------------------------------+\n",
            "| Processes:                                                       GPU Memory |\n",
            "|  GPU       PID   Type   Process name                             Usage      |\n",
            "|=============================================================================|\n",
            "+-----------------------------------------------------------------------------+\n"
          ],
          "name": "stdout"
        }
      ]
    },
    {
      "metadata": {
        "id": "Xdemin4U2nhA",
        "colab_type": "code",
        "outputId": "066af4ef-98e5-463b-e84f-e062e16a45e0",
        "colab": {
          "base_uri": "https://localhost:8080/",
          "height": 292
        }
      },
      "cell_type": "code",
      "source": [
        "import sys\n",
        "import os\n",
        "# !{sys.executable} -m pip install http://download.pytorch.org/whl/cu80/torch-0.4.0-cp36-cp36m-linux_x86_64.whl\n",
        "# !{sys.executable} -m pip install torch torchvision matplotlib\n",
        "!{sys.executable} -m pip install https://download.pytorch.org/whl/cu100/torch-1.0.1.post2-cp36-cp36m-linux_x86_64.whl\n",
        "!{sys.executable} -m pip install torchvision matplotlib\n",
        "\n",
        "import torch\n",
        "import torch.nn as nn\n",
        "import torchvision.datasets as datasets\n",
        "import torchvision.transforms as transforms\n",
        "import torch.nn.functional as F\n",
        "from torch.autograd import Variable\n",
        "\n",
        "%matplotlib inline\n",
        "import matplotlib\n",
        "import matplotlib.pyplot as plt\n",
        "import numpy as np\n",
        "\n",
        "from timeit import default_timer as timer\n",
        "\n",
        "print(\"PyTorch version: {}\".format(torch.__version__))\n",
        "cudnn_enabled = torch.backends.cudnn.enabled\n",
        "print(\"CuDNN enabled\" if cudnn_enabled else \"CuDNN disabled\")"
      ],
      "execution_count": 12,
      "outputs": [
        {
          "output_type": "stream",
          "text": [
            "Requirement already satisfied: torch==1.0.1.post2 from https://download.pytorch.org/whl/cu100/torch-1.0.1.post2-cp36-cp36m-linux_x86_64.whl in /usr/local/lib/python3.6/dist-packages (1.0.1.post2)\n",
            "Requirement already satisfied: torchvision in /usr/local/lib/python3.6/dist-packages (0.2.2.post3)\n",
            "Requirement already satisfied: matplotlib in /usr/local/lib/python3.6/dist-packages (3.0.3)\n",
            "Requirement already satisfied: pillow>=4.1.1 in /usr/local/lib/python3.6/dist-packages (from torchvision) (4.1.1)\n",
            "Requirement already satisfied: six in /usr/local/lib/python3.6/dist-packages (from torchvision) (1.11.0)\n",
            "Requirement already satisfied: numpy in /usr/local/lib/python3.6/dist-packages (from torchvision) (1.14.6)\n",
            "Requirement already satisfied: torch in /usr/local/lib/python3.6/dist-packages (from torchvision) (1.0.1.post2)\n",
            "Requirement already satisfied: python-dateutil>=2.1 in /usr/local/lib/python3.6/dist-packages (from matplotlib) (2.5.3)\n",
            "Requirement already satisfied: pyparsing!=2.0.4,!=2.1.2,!=2.1.6,>=2.0.1 in /usr/local/lib/python3.6/dist-packages (from matplotlib) (2.3.1)\n",
            "Requirement already satisfied: kiwisolver>=1.0.1 in /usr/local/lib/python3.6/dist-packages (from matplotlib) (1.0.1)\n",
            "Requirement already satisfied: cycler>=0.10 in /usr/local/lib/python3.6/dist-packages (from matplotlib) (0.10.0)\n",
            "Requirement already satisfied: olefile in /usr/local/lib/python3.6/dist-packages (from pillow>=4.1.1->torchvision) (0.46)\n",
            "Requirement already satisfied: setuptools in /usr/local/lib/python3.6/dist-packages (from kiwisolver>=1.0.1->matplotlib) (40.8.0)\n",
            "PyTorch version: 1.0.1.post2\n",
            "CuDNN enabled\n"
          ],
          "name": "stdout"
        }
      ]
    },
    {
      "metadata": {
        "id": "ateauqQT2nhF",
        "colab_type": "text"
      },
      "cell_type": "markdown",
      "source": [
        "## 2. Variables\n",
        "*Indicate the root directory where the data must be downloaded, the directory where the results should be saved and the type of RNN (conventional, LSTM, GRU) and its respective hyper-parameters*"
      ]
    },
    {
      "metadata": {
        "id": "Jt3gMpMY2nhG",
        "colab_type": "code",
        "outputId": "1d74c515-5bc2-460c-dab1-eee5328af054",
        "colab": {
          "base_uri": "https://localhost:8080/",
          "height": 34
        }
      },
      "cell_type": "code",
      "source": [
        "# Make reproducible run\n",
        "torch.manual_seed(1)\n",
        "\n",
        "# Settable parameters\n",
        "params = {'root': './data/',\n",
        "          'results_dir': './results/',\n",
        "          'hidden_size': 128,\n",
        "          'input_size': 28,  # MNIST data input (img shape: 28*28)\n",
        "          'sequence_length': 28,\n",
        "          'lr': 1e-3,\n",
        "          'weight_decay': 1e-10, # 5e-4,  # 1e-10,\n",
        "          'momentum': 0.9,\n",
        "          'num_classes': 10,  # class 0-9\n",
        "          'batch_size': 128,\n",
        "          'model_type': 'RNN',  # Options = [RNN, LSTM, GRU]\n",
        "          'num_layers': 1,\n",
        "          'epochs': 10,\n",
        "          'save_step': 200,\n",
        "          'use_cuda': True,\n",
        "         }\n",
        "\n",
        "# GPU usage\n",
        "print(\"GPU: {}, number: {}\".format(torch.cuda.is_available(), torch.cuda.device_count()))\n",
        "device = torch.device('cuda') if params['use_cuda'] and torch.cuda.is_available() else torch.device('cpu')\n",
        "\n",
        "# Ensure results directory exists\n",
        "if not os.path.exists(params['results_dir']):\n",
        "    os.mkdir(params['results_dir'])"
      ],
      "execution_count": 75,
      "outputs": [
        {
          "output_type": "stream",
          "text": [
            "GPU: True, number: 1\n"
          ],
          "name": "stdout"
        }
      ]
    },
    {
      "metadata": {
        "id": "BamOukfB2nhL",
        "colab_type": "text"
      },
      "cell_type": "markdown",
      "source": [
        "## 3. Dataset\n",
        "\n",
        "*Normalizing between (0.1307, 0.3081): global mean and standard deviation of the MNIST dataset*"
      ]
    },
    {
      "metadata": {
        "id": "jpbW8mtb2nhN",
        "colab_type": "code",
        "outputId": "5ccb97fe-978e-4e52-afb1-7301adc72c70",
        "colab": {
          "base_uri": "https://localhost:8080/",
          "height": 34
        }
      },
      "cell_type": "code",
      "source": [
        "# Get train and test datasets\n",
        "# trans = transforms.Compose([transforms.ToTensor(), transforms.Normalize((0.5,), (1.0,))])\n",
        "trans = transforms.Compose([transforms.ToTensor(), transforms.Normalize((0.1307,), (0.3081,))])\n",
        "# trans = transforms.Compose([transforms.ToTensor()])\n",
        "mnist_train = datasets.MNIST(\n",
        "    root=params['root'],  # directory where the data is or where it will be saved\n",
        "    train=True,  # train dataset\n",
        "    download=True,  # download if you don't have it\n",
        "    transform=trans)  # converts PIL.image or np.ndarray to torch.FloatTensor of shape (C, H, W) and normalizes from (0.0, 1.0)\n",
        "mnist_test = datasets.MNIST(root=params['root'], train=False, download=True, transform=trans)  # transforms.ToTensor()\n",
        "print(\"MNIST Train {}, Test {}\".format(len(mnist_train), len(mnist_test)))\n",
        "\n",
        "# Dataloader: mini-batch during training\n",
        "mnist_train_dataloader = torch.utils.data.DataLoader(dataset=mnist_train, batch_size=params['batch_size'], shuffle=True)\n",
        "mnist_test_dataloader = torch.utils.data.DataLoader(dataset=mnist_test, batch_size=params['batch_size'], shuffle=True)"
      ],
      "execution_count": 76,
      "outputs": [
        {
          "output_type": "stream",
          "text": [
            "MNIST Train 60000, Test 10000\n"
          ],
          "name": "stdout"
        }
      ]
    },
    {
      "metadata": {
        "id": "QhKhpBRaU4b4",
        "colab_type": "text"
      },
      "cell_type": "markdown",
      "source": [
        "*Dataset examples*"
      ]
    },
    {
      "metadata": {
        "id": "ikWHBC-2U6-B",
        "colab_type": "code",
        "outputId": "750904ab-edcf-4c33-b891-6c9c044833cd",
        "colab": {
          "base_uri": "https://localhost:8080/",
          "height": 140
        }
      },
      "cell_type": "code",
      "source": [
        "# Plot examples\n",
        "examples = enumerate(mnist_test_dataloader)\n",
        "batch_idx, (example_data, example_targets) = next(examples)\n",
        "\n",
        "fig, axes = plt.subplots(nrows=1, ncols=4)\n",
        "for i, ax in enumerate(axes.flat):\n",
        "  ax.imshow(example_data[i][0]) \n",
        "  ax.set_title('{}'.format(example_targets[i]))\n",
        "  ax.set_xticks([])\n",
        "  ax.set_yticks([])\n",
        "  plt.tight_layout()"
      ],
      "execution_count": 72,
      "outputs": [
        {
          "output_type": "display_data",
          "data": {
            "image/png": "[encoded data removed]",
            "text/plain": [
              "<Figure size 432x288 with 4 Axes>"
            ]
          },
          "metadata": {
            "tags": []
          }
        }
      ]
    },
    {
      "metadata": {
        "id": "dWCCngwF2nhS",
        "colab_type": "text"
      },
      "cell_type": "markdown",
      "source": [
        "## 4. The Model: RNN\n",
        "$h_t = \\sigma(W x_t + U h_{t-1})$\n",
        "\n",
        "Some important information is: \n",
        "* Input size: number of expected features in input $x$\n",
        "* Hidden size: number of features in hidden state $h$\n",
        "* After forward propagation, output has shape (batch_size, seq_length, hidden_size)\n",
        "* If you want to initialize of RNN with hidden and cell states different than zero, modify variables $h0$ and $c0$. Otherwise, you may set them as *None*."
      ]
    },
    {
      "metadata": {
        "id": "N2UAizM92nhT",
        "colab_type": "code",
        "colab": {}
      },
      "cell_type": "code",
      "source": [
        "class RNN(nn.Module):\n",
        "    def __init__(self):\n",
        "        super(RNN, self).__init__()\n",
        "        self.input_size = params['input_size']\n",
        "        self.hidden_size = params['hidden_size']\n",
        "        self.num_layers = params['num_layers']\n",
        "        self.model_type = params['model_type']\n",
        "        \n",
        "        if self.model_type == 'RNN':\n",
        "            self.rnn = nn.RNN(self.input_size, self.hidden_size, num_layers=self.num_layers, bias=True, nonlinearity='tanh', dropout=0.2)\n",
        "        elif self.model_type == 'GRU':\n",
        "            self.rnn = nn.GRU(self.input_size, self.hidden_size, num_layers=self.num_layers, bias=True, dropout=0.2)\n",
        "        else:  # 'LSTM'\n",
        "            self.rnn = nn.LSTM(self.input_size, self.hidden_size, num_layers=self.num_layers, dropout=0.2)\n",
        "\n",
        "        self.bn = nn.BatchNorm1d(self.hidden_size)\n",
        "        self.fc = nn.Linear(self.hidden_size, params['num_classes'])\n",
        "        self.softmax = nn.ReLU()  # nn.LogSoftmax()  # Softmax()\n",
        "        \n",
        "    def forward(self, x):           \n",
        "        # Set initial hidden state $h0$ and cell state $c0$\n",
        "        h0 = torch.zeros(self.num_layers, self.input_size, self.hidden_size, dtype=torch.float32)\n",
        "        c0 = torch.zeros(self.num_layers, self.input_size, self.hidden_size, dtype=torch.float32)\n",
        "\n",
        "        # Forward propagate RNN\n",
        "        if self.model_type == 'LSTM':\n",
        "            out, hidden = self.rnn(x, None)  # (h0, c0)) \n",
        "        else:\n",
        "            out, hidden = self.rnn(x, None)  # h0)\n",
        "        \n",
        "        # Decode last hidden state\n",
        "        out_fc = self.bn(out[:, -1, :])\n",
        "        out_fc = self.fc(out_fc)\n",
        "        out_fc = self.softmax(out_fc)\n",
        "        # print(\"Input {} -> Output shape {} -> {} | Last shape {}\".format(x.shape, out.shape, out_fc.shape, out[:, -1, :].shape))\n",
        "        return out_fc"
      ],
      "execution_count": 0,
      "outputs": []
    },
    {
      "metadata": {
        "id": "cw-AqMCfOgPN",
        "colab_type": "text"
      },
      "cell_type": "markdown",
      "source": [
        "*Instantiate model and optimizer*"
      ]
    },
    {
      "metadata": {
        "id": "9T6W1JeOOlTW",
        "colab_type": "code",
        "outputId": "5e8cde9f-17a7-4af6-d644-416f7ef96a61",
        "colab": {
          "base_uri": "https://localhost:8080/",
          "height": 88
        }
      },
      "cell_type": "code",
      "source": [
        "# Instantiate model\n",
        "model = RNN()\n",
        "# Allow for parallelism if multiple GPUs are detected\n",
        "model = nn.DataParallel(model)\n",
        "# Transfer model to device (CPU or GPU according to your preference and what's available)\n",
        "model = model.to(device)\n",
        "\n",
        "# Loss criterion and optimizer\n",
        "criterion = nn.CrossEntropyLoss()  # L1Loss, SmoothL1Loss, NLLLoss(), CrossEntropyLoss()\n",
        "# criterion = nn.NLLLoss()\n",
        "optimizer = torch.optim.Adam(model.parameters(), lr=params['lr'], weight_decay=params['weight_decay'])\n",
        "# optimizer = torch.optim.ASGD(model.parameters(), lr=params['lr'], weight_decay=params['weight_decay'])\n",
        "# optimizer = torch.optim.SGD(model.parameters(), lr=params['lr'], momentum=params['momentum'])\n",
        "scheduler = torch.optim.lr_scheduler.ReduceLROnPlateau(optimizer)\n",
        "\n",
        "# New results dir based on model's parameters\n",
        "res_dir = params['results_dir'] + '{}_{}layers_sgd_lr{}_weight{}_trainSize_{}_testSize_{}/'.\\\n",
        "    format(params['model_type'], params['num_layers'], params['lr'],\n",
        "           params['weight_decay'], len(mnist_train), len(mnist_test))\n",
        "\n",
        "if not os.path.exists(res_dir):\n",
        "    os.mkdir(res_dir)\n",
        "\n",
        "print(\"res_dir: {}\".format(res_dir))\n",
        "log_file = open(res_dir + 'log.txt', 'w')"
      ],
      "execution_count": 82,
      "outputs": [
        {
          "output_type": "stream",
          "text": [
            "res_dir: ./results/RNN_1layers_sgd_lr0.001_weight1e-10_trainSize_60000_testSize_10000/\n"
          ],
          "name": "stdout"
        },
        {
          "output_type": "stream",
          "text": [
            "/usr/local/lib/python3.6/dist-packages/torch/nn/modules/rnn.py:46: UserWarning: dropout option adds dropout after all but last recurrent layer, so non-zero dropout expects num_layers greater than 1, but got dropout=0.2 and num_layers=1\n",
            "  \"num_layers={}\".format(dropout, num_layers))\n"
          ],
          "name": "stderr"
        }
      ]
    },
    {
      "metadata": {
        "id": "t7ZCKLry2nhV",
        "colab_type": "text"
      },
      "cell_type": "markdown",
      "source": [
        "## 5. Train"
      ]
    },
    {
      "metadata": {
        "id": "qaLuhdcu2nhW",
        "colab_type": "code",
        "outputId": "5046a18d-f263-4a7a-9dbb-175f2c439349",
        "colab": {
          "base_uri": "https://localhost:8080/",
          "height": 792
        }
      },
      "cell_type": "code",
      "source": [
        "start_timer = timer()\n",
        "\n",
        "loss_arr = []\n",
        "train_acc_arr = []\n",
        "first_time = True\n",
        "total_num_steps = len(mnist_train_dataloader)\n",
        "# model.train()\n",
        "\n",
        "model.zero_grad()\n",
        "for e in range(1, params['epochs']+1):\n",
        "    for i, (img, label) in enumerate(mnist_train_dataloader):\n",
        "        # img = img.reshape(-1, params['sequence_length'], params['input_size']).to(device)\n",
        "        # img = img.view(-1, params['sequence_length'], params['input_size']).to(device)\n",
        "        img = Variable(torch.squeeze(img)).to(device)\n",
        "        # img = torch.transpose(img, 1, 2)\n",
        "        label = Variable(label).to(device)\n",
        "        \n",
        "        #img_cpu = img.cpu()\n",
        "        #print(np.shape(img_cpu))\n",
        "        #print(np.shape(img_cpu[1,:,:]))\n",
        "        #plt.imshow(img_cpu[1,:,:])\n",
        "        #plt.tight_layout()\n",
        "        #plt.show()\n",
        "        \n",
        "        # Forward\n",
        "        out = model(img)\n",
        "        loss = criterion(out, label)\n",
        "        \n",
        "        # Backward\n",
        "        optimizer.zero_grad()\n",
        "        #for param in model.parameters():\n",
        "        #  print(param.grad.data.sum())\n",
        "\n",
        "        # start debugger\n",
        "        # import pdb; pdb.set_trace()\n",
        "\n",
        "        loss.backward()\n",
        "        \n",
        "        optimizer.step()\n",
        "        scheduler.step(loss)\n",
        "\n",
        "        loss_arr.append(loss.item())\n",
        "        \n",
        "        if i % params['save_step'] == 0:\n",
        "            # Train Accuracy\n",
        "            _, predicted = torch.max(out.data, 1)\n",
        "            total = label.size(0)\n",
        "            correct = (predicted == label).sum().item()\n",
        "            acc = 100 * correct / total\n",
        "            train_acc_arr.append(acc)\n",
        "            # Print update\n",
        "            perc = 100 * ((e-1)*total_num_steps + (i+1))/float(params['epochs'] * total_num_steps)\n",
        "            str_res = \"Completed {:.2f}%: Epoch/step [{}/{} - {}/{}], loss {:.4f}, acc {:.2f}, best acc {:.2f}\".format(perc, e, params['epochs'], i+1, total_num_steps, loss.item(), acc, max(train_acc_arr))\n",
        "            print(str_res)  # print(\"\\r\" + str_res, end=\"\")\n",
        "        #    # Save log\n",
        "        #    log_file.write(str_res)\n",
        "            \n",
        "# Save training loss\n",
        "plt.plot(loss_arr)\n",
        "# plt.semilogy(range(len(loss_arr)), loss_arr)\n",
        "plt.savefig(res_dir + 'loss.png')\n",
        "# Save model checkpoint\n",
        "torch.save(model.state_dict(), res_dir + 'model.ckpt')\n",
        "plt.show()\n",
        "log_file.close()\n",
        "\n",
        "end_timer = timer() - start_timer\n",
        "print(\"Model took {:.4f} mins ({:.4f} hrs) to finish training with best train accuracy of {:.4f}%\".format(end_timer/60, end_timer/3600, max(train_acc_arr)))"
      ],
      "execution_count": 83,
      "outputs": [
        {
          "output_type": "stream",
          "text": [
            "Completed 0.02%: Epoch/step [1/10 - 1/469], loss 2.2998, acc 7.81, best acc 7.81\n",
            "Completed 4.29%: Epoch/step [1/10 - 201/469], loss 2.3046, acc 14.06, best acc 14.06\n",
            "Completed 8.55%: Epoch/step [1/10 - 401/469], loss 2.3139, acc 11.72, best acc 14.06\n",
            "Completed 10.02%: Epoch/step [2/10 - 1/469], loss 2.3030, acc 10.94, best acc 14.06\n",
            "Completed 14.29%: Epoch/step [2/10 - 201/469], loss 2.3049, acc 10.16, best acc 14.06\n",
            "Completed 18.55%: Epoch/step [2/10 - 401/469], loss 2.3112, acc 10.16, best acc 14.06\n",
            "Completed 20.02%: Epoch/step [3/10 - 1/469], loss 2.2959, acc 7.03, best acc 14.06\n",
            "Completed 24.29%: Epoch/step [3/10 - 201/469], loss 2.2863, acc 10.16, best acc 14.06\n",
            "Completed 28.55%: Epoch/step [3/10 - 401/469], loss 2.3048, acc 12.50, best acc 14.06\n",
            "Completed 30.02%: Epoch/step [4/10 - 1/469], loss 2.3008, acc 10.16, best acc 14.06\n",
            "Completed 34.29%: Epoch/step [4/10 - 201/469], loss 2.3014, acc 14.84, best acc 14.84\n",
            "Completed 38.55%: Epoch/step [4/10 - 401/469], loss 2.3087, acc 9.38, best acc 14.84\n",
            "Completed 40.02%: Epoch/step [5/10 - 1/469], loss 2.3113, acc 9.38, best acc 14.84\n",
            "Completed 44.29%: Epoch/step [5/10 - 201/469], loss 2.3015, acc 13.28, best acc 14.84\n",
            "Completed 48.55%: Epoch/step [5/10 - 401/469], loss 2.2993, acc 11.72, best acc 14.84\n",
            "Completed 50.02%: Epoch/step [6/10 - 1/469], loss 2.3099, acc 7.81, best acc 14.84\n",
            "Completed 54.29%: Epoch/step [6/10 - 201/469], loss 2.2876, acc 14.84, best acc 14.84\n",
            "Completed 58.55%: Epoch/step [6/10 - 401/469], loss 2.3083, acc 13.28, best acc 14.84\n",
            "Completed 60.02%: Epoch/step [7/10 - 1/469], loss 2.2928, acc 10.94, best acc 14.84\n",
            "Completed 64.29%: Epoch/step [7/10 - 201/469], loss 2.3098, acc 12.50, best acc 14.84\n",
            "Completed 68.55%: Epoch/step [7/10 - 401/469], loss 2.2875, acc 12.50, best acc 14.84\n",
            "Completed 70.02%: Epoch/step [8/10 - 1/469], loss 2.2871, acc 10.94, best acc 14.84\n",
            "Completed 74.29%: Epoch/step [8/10 - 201/469], loss 2.3073, acc 13.28, best acc 14.84\n",
            "Completed 78.55%: Epoch/step [8/10 - 401/469], loss 2.2982, acc 11.72, best acc 14.84\n",
            "Completed 80.02%: Epoch/step [9/10 - 1/469], loss 2.2964, acc 10.94, best acc 14.84\n",
            "Completed 84.29%: Epoch/step [9/10 - 201/469], loss 2.3000, acc 14.06, best acc 14.84\n",
            "Completed 88.55%: Epoch/step [9/10 - 401/469], loss 2.3085, acc 14.84, best acc 14.84\n",
            "Completed 90.02%: Epoch/step [10/10 - 1/469], loss 2.2869, acc 14.84, best acc 14.84\n",
            "Completed 94.29%: Epoch/step [10/10 - 201/469], loss 2.3038, acc 7.81, best acc 14.84\n",
            "Completed 98.55%: Epoch/step [10/10 - 401/469], loss 2.2922, acc 14.84, best acc 14.84\n"
          ],
          "name": "stdout"
        },
        {
          "output_type": "display_data",
          "data": {
            "image/png": "[encoded data removed]",
            "text/plain": [
              "<Figure size 432x288 with 1 Axes>"
            ]
          },
          "metadata": {
            "tags": []
          }
        },
        {
          "output_type": "stream",
          "text": [
            "Model took 3.4720 mins (0.0579 hrs) to finish training with best train accuracy of 14.8438%\n"
          ],
          "name": "stdout"
        }
      ]
    },
    {
      "metadata": {
        "id": "bUXii0BC2nhZ",
        "colab_type": "text"
      },
      "cell_type": "markdown",
      "source": [
        "## 6. Test"
      ]
    },
    {
      "metadata": {
        "id": "q3Qlsqzo2nha",
        "colab_type": "code",
        "outputId": "430646e4-0c9f-4819-d1ce-48fad3f3106d",
        "colab": {
          "base_uri": "https://localhost:8080/",
          "height": 365
        }
      },
      "cell_type": "code",
      "source": [
        "# Testing doesn't require the use of gradients since weights aren't being updated\n",
        "model.eval()\n",
        "with torch.no_grad():\n",
        "    correct = 0\n",
        "    total = 0\n",
        "    \n",
        "    for img, label in mnist_test_dataloader:\n",
        "        img = torch.squeeze(img).to(device)\n",
        "        label = label.to(device)\n",
        "        \n",
        "        # Forward\n",
        "        out = model(img)\n",
        "        \n",
        "        # Test\n",
        "        _, predicted = torch.max(out.data, 1)\n",
        "        total += label.size(0)\n",
        "        correct += (predicted == label).sum().item()\n",
        "\n",
        "    # Accuracy\n",
        "    print('Test Accuracy: {:.4f} %'.format(100 * correct / total)) \n",
        "\n",
        "    # Show 4 test images\n",
        "    fig, axes = plt.subplots(nrows=2, ncols=2)\n",
        "    img_cpu = img.cpu()\n",
        "    label_cpu = label.cpu()\n",
        "    print(\"Shapes: img {}, label {}, predicted {}\".format(img_cpu.size(), label_cpu.size(), predicted.size()))\n",
        "    print(\"Label: {}\".format(label))\n",
        "    print(\"Predicted: {}\".format(predicted))\n",
        "    for i, ax in enumerate(axes.flat):\n",
        "      ax.imshow(img_cpu[i]) \n",
        "      ax.set_title('Target: {} - Prediction: {}'.format(label_cpu[i], predicted[i]))\n",
        "      ax.set_xticks([])\n",
        "      ax.set_yticks([])\n",
        "    plt.tight_layout()"
      ],
      "execution_count": 84,
      "outputs": [
        {
          "output_type": "stream",
          "text": [
            "Test Accuracy: 11.2200 %\n",
            "Shapes: img torch.Size([16, 28, 28]), label torch.Size([16]), predicted torch.Size([16])\n",
            "Label: tensor([7, 7, 6, 3, 3, 4, 3, 5, 7, 0, 1, 2, 0, 9, 7, 9], device='cuda:0')\n",
            "Predicted: tensor([0, 0, 1, 3, 2, 3, 1, 1, 1, 1, 1, 1, 1, 1, 1, 1], device='cuda:0')\n"
          ],
          "name": "stdout"
        },
        {
          "output_type": "display_data",
          "data": {
            "image/png": "[encoded data removed]",
            "text/plain": [
              "<Figure size 432x288 with 4 Axes>"
            ]
          },
          "metadata": {
            "tags": []
          }
        }
      ]
    },
    {
      "metadata": {
        "id": "LYYZW0YSYH2f",
        "colab_type": "text"
      },
      "cell_type": "markdown",
      "source": [
        "## 7. Summary\n",
        "*Steps per epoch on 128 batch_size = 469, using GPU*\n",
        "\n",
        "<table align=\"left\">\n",
        "  <tr>\n",
        "    <td><b>Model</b></td><td><b>Epoch</b></td><td align=\"center\"><b>Train Acc (%)</b></td><td align=\"center\"><b>Test Acc (%)</b></td><td align=\"center\"><b>Training Time (min)</b></td>\n",
        "  </tr>\n",
        "  <tr>\n",
        "    <td rowspan=\"2\">RNN</td><td>10</td><td align=\"center\">17</td><td align=\"center\">12</td><td align=\"center\">3.6</td>\n",
        "  </tr>\n",
        "  <tr>\n",
        "    <td>30</td><td align=\"center\">18</td><td align=\"center\">11</td><td align=\"center\">11.6</td>\n",
        "  </tr>\n",
        "  <tr>\n",
        "    <td rowspan=\"2\">LSTM</td><td>10</td><td align=\"center\">20</td><td align=\"center\">12</td><td align=\"center\">3.35</td>\n",
        "  </tr>\n",
        "  <tr>\n",
        "    <td>30</td><td align=\"center\">20</td><td align=\"center\">12</td><td align=\"center\">11.6</td>\n",
        "  </tr>\n",
        "  <tr>\n",
        "    <td rowspan=\"2\">GRU</td><td>10</td><td align=\"center\">15</td><td align=\"center\">12</td><td align=\"center\">3.6</td>\n",
        "  </tr>\n",
        "  <tr>\n",
        "    <td>30</td><td align=\"center\">20</td><td align=\"center\">12</td><td align=\"center\">12</td>\n",
        "  </tr>\n",
        "</table>"
      ]
    }
  ]
}