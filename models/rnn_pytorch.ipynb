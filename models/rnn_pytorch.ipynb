{
  "nbformat": 4,
  "nbformat_minor": 0,
  "metadata": {
    "colab": {
      "name": "rnn_pytorch.ipynb",
      "version": "0.3.2",
      "provenance": [],
      "collapsed_sections": [],
      "include_colab_link": true
    },
    "kernelspec": {
      "name": "python3",
      "display_name": "Python 3"
    },
    "accelerator": "GPU"
  },
  "cells": [
    {
      "cell_type": "markdown",
      "metadata": {
        "id": "view-in-github",
        "colab_type": "text"
      },
      "source": [
        "<a href=\"https://colab.research.google.com/github/gcunhase/ML-Notebook/blob/master/models/rnn_pytorch.ipynb\" target=\"_parent\"><img src=\"https://colab.research.google.com/assets/colab-badge.svg\" alt=\"Open In Colab\"/></a>"
      ]
    },
    {
      "metadata": {
        "collapsed": true,
        "id": "jqZrGQOG2ng-",
        "colab_type": "text"
      },
      "cell_type": "markdown",
      "source": [
        "# Recurrent Neural Network"
      ]
    },
    {
      "metadata": {
        "id": "EB7M0gMP2ng_",
        "colab_type": "text"
      },
      "cell_type": "markdown",
      "source": [
        "## 1. Libraries\n",
        "*Installing and importing necessary packages*\n",
        "\n",
        "*Working with **Python 3.6** and **PyTorch 1.0.1** *"
      ]
    },
    {
      "metadata": {
        "id": "-HDxCZeVAPb-",
        "colab_type": "code",
        "outputId": "08d09105-fa52-4196-d4d7-cca9cd92c630",
        "colab": {
          "base_uri": "https://localhost:8080/",
          "height": 289
        }
      },
      "cell_type": "code",
      "source": [
        "!nvidia-smi"
      ],
      "execution_count": 11,
      "outputs": [
        {
          "output_type": "stream",
          "text": [
            "Thu Apr  4 12:34:13 2019       \n",
            "+-----------------------------------------------------------------------------+\n",
            "| NVIDIA-SMI 418.56       Driver Version: 410.79       CUDA Version: 10.0     |\n",
            "|-------------------------------+----------------------+----------------------+\n",
            "| GPU  Name        Persistence-M| Bus-Id        Disp.A | Volatile Uncorr. ECC |\n",
            "| Fan  Temp  Perf  Pwr:Usage/Cap|         Memory-Usage | GPU-Util  Compute M. |\n",
            "|===============================+======================+======================|\n",
            "|   0  Tesla K80           Off  | 00000000:00:04.0 Off |                    0 |\n",
            "| N/A   73C    P0    73W / 149W |   2430MiB / 11441MiB |      0%      Default |\n",
            "+-------------------------------+----------------------+----------------------+\n",
            "                                                                               \n",
            "+-----------------------------------------------------------------------------+\n",
            "| Processes:                                                       GPU Memory |\n",
            "|  GPU       PID   Type   Process name                             Usage      |\n",
            "|=============================================================================|\n",
            "+-----------------------------------------------------------------------------+\n"
          ],
          "name": "stdout"
        }
      ]
    },
    {
      "metadata": {
        "id": "Xdemin4U2nhA",
        "colab_type": "code",
        "outputId": "066af4ef-98e5-463b-e84f-e062e16a45e0",
        "colab": {
          "base_uri": "https://localhost:8080/",
          "height": 292
        }
      },
      "cell_type": "code",
      "source": [
        "import sys\n",
        "import os\n",
        "# !{sys.executable} -m pip install http://download.pytorch.org/whl/cu80/torch-0.4.0-cp36-cp36m-linux_x86_64.whl\n",
        "# !{sys.executable} -m pip install torch torchvision matplotlib\n",
        "!{sys.executable} -m pip install https://download.pytorch.org/whl/cu100/torch-1.0.1.post2-cp36-cp36m-linux_x86_64.whl\n",
        "!{sys.executable} -m pip install torchvision matplotlib\n",
        "\n",
        "import torch\n",
        "import torch.nn as nn\n",
        "import torchvision.datasets as datasets\n",
        "import torchvision.transforms as transforms\n",
        "import torch.nn.functional as F\n",
        "from torch.autograd import Variable\n",
        "\n",
        "%matplotlib inline\n",
        "import matplotlib\n",
        "import matplotlib.pyplot as plt\n",
        "import numpy as np\n",
        "\n",
        "from timeit import default_timer as timer\n",
        "\n",
        "print(\"PyTorch version: {}\".format(torch.__version__))\n",
        "cudnn_enabled = torch.backends.cudnn.enabled\n",
        "print(\"CuDNN enabled\" if cudnn_enabled else \"CuDNN disabled\")"
      ],
      "execution_count": 12,
      "outputs": [
        {
          "output_type": "stream",
          "text": [
            "Requirement already satisfied: torch==1.0.1.post2 from https://download.pytorch.org/whl/cu100/torch-1.0.1.post2-cp36-cp36m-linux_x86_64.whl in /usr/local/lib/python3.6/dist-packages (1.0.1.post2)\n",
            "Requirement already satisfied: torchvision in /usr/local/lib/python3.6/dist-packages (0.2.2.post3)\n",
            "Requirement already satisfied: matplotlib in /usr/local/lib/python3.6/dist-packages (3.0.3)\n",
            "Requirement already satisfied: pillow>=4.1.1 in /usr/local/lib/python3.6/dist-packages (from torchvision) (4.1.1)\n",
            "Requirement already satisfied: six in /usr/local/lib/python3.6/dist-packages (from torchvision) (1.11.0)\n",
            "Requirement already satisfied: numpy in /usr/local/lib/python3.6/dist-packages (from torchvision) (1.14.6)\n",
            "Requirement already satisfied: torch in /usr/local/lib/python3.6/dist-packages (from torchvision) (1.0.1.post2)\n",
            "Requirement already satisfied: python-dateutil>=2.1 in /usr/local/lib/python3.6/dist-packages (from matplotlib) (2.5.3)\n",
            "Requirement already satisfied: pyparsing!=2.0.4,!=2.1.2,!=2.1.6,>=2.0.1 in /usr/local/lib/python3.6/dist-packages (from matplotlib) (2.3.1)\n",
            "Requirement already satisfied: kiwisolver>=1.0.1 in /usr/local/lib/python3.6/dist-packages (from matplotlib) (1.0.1)\n",
            "Requirement already satisfied: cycler>=0.10 in /usr/local/lib/python3.6/dist-packages (from matplotlib) (0.10.0)\n",
            "Requirement already satisfied: olefile in /usr/local/lib/python3.6/dist-packages (from pillow>=4.1.1->torchvision) (0.46)\n",
            "Requirement already satisfied: setuptools in /usr/local/lib/python3.6/dist-packages (from kiwisolver>=1.0.1->matplotlib) (40.8.0)\n",
            "PyTorch version: 1.0.1.post2\n",
            "CuDNN enabled\n"
          ],
          "name": "stdout"
        }
      ]
    },
    {
      "metadata": {
        "id": "ateauqQT2nhF",
        "colab_type": "text"
      },
      "cell_type": "markdown",
      "source": [
        "## 2. Variables\n",
        "*Indicate the root directory where the data must be downloaded, the directory where the results should be saved and the type of RNN (conventional, LSTM, GRU) and its respective hyper-parameters*"
      ]
    },
    {
      "metadata": {
        "id": "Jt3gMpMY2nhG",
        "colab_type": "code",
        "outputId": "7c0dcb74-324f-4c13-9ee7-3f843aa0fc86",
        "colab": {
          "base_uri": "https://localhost:8080/",
          "height": 34
        }
      },
      "cell_type": "code",
      "source": [
        "# Make reproducible run\n",
        "torch.manual_seed(1)\n",
        "\n",
        "# Settable parameters\n",
        "params = {'root': './data/',\n",
        "          'results_dir': './results/',\n",
        "          'hidden_size': 128,\n",
        "          'input_size': 28,  # MNIST data input (img shape: 28*28)\n",
        "          'sequence_length': 28,\n",
        "          'lr': 1e-3,\n",
        "          'weight_decay': 1e-10, # 5e-4,  # 1e-10,\n",
        "          'momentum': 0.9,\n",
        "          'num_classes': 10,  # class 0-9\n",
        "          'batch_size': 128,\n",
        "          'model_type': 'GRU',  # Options = [RNN, LSTM, GRU]\n",
        "          'optim_type': 'Adam',  # Options = [Adam, SGD, RMSprop]\n",
        "          'criterion_type': 'CrossEntropyLoss', # Options = [L1Loss, SmoothL1Loss, NLLLoss, CrossEntropyLoss]\n",
        "          'num_layers': 1,\n",
        "          'epochs': 30,\n",
        "          'save_step': 200,\n",
        "          'use_cuda': True,\n",
        "         }\n",
        "\n",
        "# GPU usage\n",
        "print(\"GPU: {}, number: {}\".format(torch.cuda.is_available(), torch.cuda.device_count()))\n",
        "device = torch.device('cuda') if params['use_cuda'] and torch.cuda.is_available() else torch.device('cpu')\n",
        "\n",
        "# Ensure results directory exists\n",
        "if not os.path.exists(params['results_dir']):\n",
        "    os.mkdir(params['results_dir'])"
      ],
      "execution_count": 138,
      "outputs": [
        {
          "output_type": "stream",
          "text": [
            "GPU: True, number: 1\n"
          ],
          "name": "stdout"
        }
      ]
    },
    {
      "metadata": {
        "id": "BamOukfB2nhL",
        "colab_type": "text"
      },
      "cell_type": "markdown",
      "source": [
        "## 3. Dataset\n",
        "\n",
        "*Normalizing between (0.1307, 0.3081): global mean and standard deviation of the MNIST dataset*"
      ]
    },
    {
      "metadata": {
        "id": "jpbW8mtb2nhN",
        "colab_type": "code",
        "outputId": "b0bc736b-2f2e-4544-83ab-f9ca88489ee7",
        "colab": {
          "base_uri": "https://localhost:8080/",
          "height": 34
        }
      },
      "cell_type": "code",
      "source": [
        "# Get train and test datasets\n",
        "# trans = transforms.Compose([transforms.ToTensor(), transforms.Normalize((0.5,), (1.0,))])\n",
        "trans = transforms.Compose([transforms.ToTensor(), transforms.Normalize((0.1307,), (0.3081,))])\n",
        "# trans = transforms.Compose([transforms.ToTensor()])\n",
        "mnist_train = datasets.MNIST(\n",
        "    root=params['root'],  # directory where the data is or where it will be saved\n",
        "    train=True,  # train dataset\n",
        "    download=True,  # download if you don't have it\n",
        "    transform=trans)  # converts PIL.image or np.ndarray to torch.FloatTensor of shape (C, H, W) and normalizes from (0.0, 1.0)\n",
        "mnist_test = datasets.MNIST(root=params['root'], train=False, download=True, transform=trans)  # transforms.ToTensor()\n",
        "print(\"MNIST Train {}, Test {}\".format(len(mnist_train), len(mnist_test)))\n",
        "\n",
        "# Dataloader: mini-batch during training\n",
        "mnist_train_dataloader = torch.utils.data.DataLoader(dataset=mnist_train, batch_size=params['batch_size'], shuffle=True)\n",
        "mnist_test_dataloader = torch.utils.data.DataLoader(dataset=mnist_test, batch_size=params['batch_size'], shuffle=True)"
      ],
      "execution_count": 117,
      "outputs": [
        {
          "output_type": "stream",
          "text": [
            "MNIST Train 60000, Test 10000\n"
          ],
          "name": "stdout"
        }
      ]
    },
    {
      "metadata": {
        "id": "QhKhpBRaU4b4",
        "colab_type": "text"
      },
      "cell_type": "markdown",
      "source": [
        "*Dataset examples*"
      ]
    },
    {
      "metadata": {
        "id": "ikWHBC-2U6-B",
        "colab_type": "code",
        "outputId": "750904ab-edcf-4c33-b891-6c9c044833cd",
        "colab": {
          "base_uri": "https://localhost:8080/",
          "height": 140
        }
      },
      "cell_type": "code",
      "source": [
        "# Plot examples\n",
        "examples = enumerate(mnist_test_dataloader)\n",
        "batch_idx, (example_data, example_targets) = next(examples)\n",
        "\n",
        "fig, axes = plt.subplots(nrows=1, ncols=4)\n",
        "for i, ax in enumerate(axes.flat):\n",
        "  ax.imshow(example_data[i][0]) \n",
        "  ax.set_title('{}'.format(example_targets[i]))\n",
        "  ax.set_xticks([])\n",
        "  ax.set_yticks([])\n",
        "  plt.tight_layout()"
      ],
      "execution_count": 72,
      "outputs": [
        {
          "output_type": "display_data",
          "data": {
            "image/png": "[encoded data removed]",
            "text/plain": [
              "<Figure size 432x288 with 4 Axes>"
            ]
          },
          "metadata": {
            "tags": []
          }
        }
      ]
    },
    {
      "metadata": {
        "id": "dWCCngwF2nhS",
        "colab_type": "text"
      },
      "cell_type": "markdown",
      "source": [
        "## 4. The Model: RNN\n",
        "$h_t = \\sigma(W x_t + U h_{t-1})$\n",
        "\n",
        "Some important information is: \n",
        "* Input size: number of expected features in input $x$\n",
        "* Hidden size: number of features in hidden state $h$\n",
        "* After forward propagation, output has shape (batch_size, seq_length, hidden_size)\n",
        "* If you want to initialize of RNN with hidden and cell states different than zero, modify variables $h0$ and $c0$. Otherwise, you may set them as *None*."
      ]
    },
    {
      "metadata": {
        "id": "N2UAizM92nhT",
        "colab_type": "code",
        "colab": {}
      },
      "cell_type": "code",
      "source": [
        "class RNN(nn.Module):\n",
        "    def __init__(self):\n",
        "        super(RNN, self).__init__()\n",
        "        self.input_size = params['input_size']\n",
        "        self.hidden_size = params['hidden_size']\n",
        "        self.num_layers = params['num_layers']\n",
        "        self.model_type = params['model_type']\n",
        "        \n",
        "        if self.model_type == 'RNN':\n",
        "            self.rnn = nn.RNN(self.input_size, self.hidden_size, num_layers=self.num_layers, bias=True, nonlinearity='tanh', dropout=0.2, batch_first=True)\n",
        "        elif self.model_type == 'GRU':\n",
        "            self.rnn = nn.GRU(self.input_size, self.hidden_size, num_layers=self.num_layers, bias=True, dropout=0.2, batch_first=True)\n",
        "        else:  # 'LSTM'\n",
        "            self.rnn = nn.LSTM(self.input_size, self.hidden_size, num_layers=self.num_layers, dropout=0.2, batch_first=True)\n",
        "\n",
        "        self.bn = nn.BatchNorm1d(self.hidden_size)\n",
        "        self.fc = nn.Linear(self.hidden_size, params['num_classes'])\n",
        "        self.softmax = nn.LogSoftmax()  # nn.ReLU()  # nn.LogSoftmax()  # Softmax()\n",
        "        \n",
        "    def forward(self, x):           \n",
        "        # Set initial hidden state $h0$ and cell state $c0$\n",
        "        h0 = torch.zeros(self.num_layers, self.input_size, self.hidden_size, dtype=torch.float32)\n",
        "        c0 = torch.zeros(self.num_layers, self.input_size, self.hidden_size, dtype=torch.float32)\n",
        "\n",
        "        # Forward propagate RNN\n",
        "        if self.model_type == 'LSTM':\n",
        "            out, hidden = self.rnn(x, None)  # (h0, c0)) \n",
        "        else:\n",
        "            out, hidden = self.rnn(x, None)  # h0)\n",
        "        \n",
        "        # Decode last hidden state\n",
        "        out_fc = self.bn(out[:, -1, :])\n",
        "        out_fc = self.fc(out_fc)\n",
        "        out_fc = self.softmax(out_fc)\n",
        "        # print(\"Input {} -> Output shape {} -> {} | Last shape {}\".format(x.shape, out.shape, out_fc.shape, out[:, -1, :].shape))\n",
        "        return out_fc"
      ],
      "execution_count": 0,
      "outputs": []
    },
    {
      "metadata": {
        "id": "cw-AqMCfOgPN",
        "colab_type": "text"
      },
      "cell_type": "markdown",
      "source": [
        "*Instantiate model and optimizer*"
      ]
    },
    {
      "metadata": {
        "id": "9T6W1JeOOlTW",
        "colab_type": "code",
        "outputId": "15884eb1-b75a-4dce-c0fc-5c2f20db7884",
        "colab": {
          "base_uri": "https://localhost:8080/",
          "height": 88
        }
      },
      "cell_type": "code",
      "source": [
        "# Instantiate model\n",
        "model = RNN()\n",
        "# Allow for parallelism if multiple GPUs are detected\n",
        "#  model = nn.DataParallel(model)\n",
        "# Transfer model to device (CPU or GPU according to your preference and what's available)\n",
        "model = model.to(device)\n",
        "\n",
        "# Loss criterion\n",
        "if 'CrossEntropyLoss' in params['criterion_type']:\n",
        "  criterion = nn.CrossEntropyLoss()\n",
        "elif 'L1Loss' in params['criterion_type']:\n",
        "  criterion = nn.L1Loss()\n",
        "elif 'SmoothL1Loss' in params['criterion_type']:\n",
        "  criterion = nn.SmoothL1Loss()\n",
        "else:  # NLLLoss\n",
        "  criterion = nn.NLLLoss()  \n",
        "\n",
        "# Optimizer\n",
        "if 'Adam' in params['optim_type']:\n",
        "  optimizer = torch.optim.Adam(model.parameters(), lr=params['lr'], weight_decay=params['weight_decay'])\n",
        "elif 'SGD' in params['optim_type']:\n",
        "  optimizer = torch.optim.SGD(model.parameters(), lr=params['lr'], weight_decay=params['weight_decay'], momentum=params['momentum'])\n",
        "elif 'RMSprop' in params['optim_type']:\n",
        "  optimizer = torch.optim.RMSprop(model.parameters(), lr=params['lr'], weight_decay=params['weight_decay'], momentum=params['momentum'])\n",
        "\n",
        "# Scheduler to reduce learning rate after it plateaus\n",
        "scheduler = torch.optim.lr_scheduler.ReduceLROnPlateau(optimizer)\n",
        "\n",
        "# New results dir based on model's parameters\n",
        "res_dir = params['results_dir'] + '{}_{}layers_sgd_lr{}_weight{}_trainSize_{}_testSize_{}/'.\\\n",
        "    format(params['model_type'], params['num_layers'], params['lr'],\n",
        "           params['weight_decay'], len(mnist_train), len(mnist_test))\n",
        "\n",
        "if not os.path.exists(res_dir):\n",
        "    os.mkdir(res_dir)\n",
        "\n",
        "print(\"res_dir: {}\".format(res_dir))\n",
        "log_file = open(res_dir + 'log.txt', 'w')"
      ],
      "execution_count": 139,
      "outputs": [
        {
          "output_type": "stream",
          "text": [
            "res_dir: ./results/GRU_1layers_sgd_lr0.001_weight1e-10_trainSize_60000_testSize_10000/\n"
          ],
          "name": "stdout"
        },
        {
          "output_type": "stream",
          "text": [
            "/usr/local/lib/python3.6/dist-packages/torch/nn/modules/rnn.py:46: UserWarning: dropout option adds dropout after all but last recurrent layer, so non-zero dropout expects num_layers greater than 1, but got dropout=0.2 and num_layers=1\n",
            "  \"num_layers={}\".format(dropout, num_layers))\n"
          ],
          "name": "stderr"
        }
      ]
    },
    {
      "metadata": {
        "id": "t7ZCKLry2nhV",
        "colab_type": "text"
      },
      "cell_type": "markdown",
      "source": [
        "## 5. Train"
      ]
    },
    {
      "metadata": {
        "id": "qaLuhdcu2nhW",
        "colab_type": "code",
        "outputId": "7e0dd432-08ef-4edb-9d5e-b9d9f7fb9b4d",
        "colab": {
          "base_uri": "https://localhost:8080/",
          "height": 1849
        }
      },
      "cell_type": "code",
      "source": [
        "start_timer = timer()\n",
        "\n",
        "loss_arr = []\n",
        "train_acc_arr = []\n",
        "first_time = True\n",
        "total_num_steps = len(mnist_train_dataloader)\n",
        "\n",
        "# model.train()\n",
        "model.zero_grad()\n",
        "optimizer.zero_grad()\n",
        "for e in range(1, params['epochs']+1):\n",
        "    for i, (img, label) in enumerate(mnist_train_dataloader):\n",
        "        img = Variable(torch.squeeze(img)).to(device)\n",
        "        label = Variable(label).to(device)\n",
        "        \n",
        "        # Forward\n",
        "        out = model(img)\n",
        "        loss = criterion(out, label)\n",
        "        \n",
        "        # Backward\n",
        "        optimizer.zero_grad()\n",
        "        \n",
        "        # start debugger\n",
        "        # import pdb; pdb.set_trace()\n",
        "\n",
        "        loss.backward()\n",
        "        optimizer.step()\n",
        "        scheduler.step(loss)\n",
        "\n",
        "        loss_arr.append(loss.item())\n",
        "        \n",
        "        if i % params['save_step'] == 0:\n",
        "            # Train Accuracy\n",
        "            _, predicted = torch.max(out.data, 1)\n",
        "            total = label.size(0)\n",
        "            correct = (predicted == label).sum().item()\n",
        "            acc = 100 * correct / total\n",
        "            train_acc_arr.append(acc)\n",
        "            # Print update\n",
        "            perc = 100 * ((e-1)*total_num_steps + (i+1))/float(params['epochs'] * total_num_steps)\n",
        "            str_res = \"Completed {:.2f}%: Epoch/step [{}/{} - {}/{}], loss {:.4f}, acc {:.2f}, best acc {:.2f}\".format(perc, e, params['epochs'], i+1, total_num_steps, loss.item(), acc, max(train_acc_arr))\n",
        "            print(str_res)  # print(\"\\r\" + str_res, end=\"\")\n",
        "            # Save log\n",
        "            log_file.write(str_res)\n",
        "            \n",
        "# Save training loss\n",
        "plt.plot(loss_arr)\n",
        "# plt.semilogy(range(len(loss_arr)), loss_arr)\n",
        "plt.savefig(res_dir + 'loss.png')\n",
        "\n",
        "# Save model checkpoint\n",
        "torch.save(model.state_dict(), res_dir + 'model.ckpt')\n",
        "plt.show()\n",
        "log_file.close()\n",
        "\n",
        "end_timer = timer() - start_timer\n",
        "print(\"Model took {:.4f} mins ({:.4f} hrs) to finish training with best train accuracy of {:.4f}%\".format(end_timer/60, end_timer/3600, max(train_acc_arr)))"
      ],
      "execution_count": 140,
      "outputs": [
        {
          "output_type": "stream",
          "text": [
            "/usr/local/lib/python3.6/dist-packages/ipykernel_launcher.py:34: UserWarning: Implicit dimension choice for log_softmax has been deprecated. Change the call to include dim=X as an argument.\n"
          ],
          "name": "stderr"
        },
        {
          "output_type": "stream",
          "text": [
            "Completed 0.01%: Epoch/step [1/30 - 1/469], loss 2.3744, acc 7.81, best acc 7.81\n",
            "Completed 1.43%: Epoch/step [1/30 - 201/469], loss 0.5953, acc 82.81, best acc 82.81\n",
            "Completed 2.85%: Epoch/step [1/30 - 401/469], loss 0.6471, acc 82.81, best acc 82.81\n",
            "Completed 3.34%: Epoch/step [2/30 - 1/469], loss 0.6236, acc 82.03, best acc 82.81\n",
            "Completed 4.76%: Epoch/step [2/30 - 201/469], loss 0.6567, acc 81.25, best acc 82.81\n",
            "Completed 6.18%: Epoch/step [2/30 - 401/469], loss 0.5539, acc 85.94, best acc 85.94\n",
            "Completed 6.67%: Epoch/step [3/30 - 1/469], loss 0.6836, acc 77.34, best acc 85.94\n",
            "Completed 8.10%: Epoch/step [3/30 - 201/469], loss 0.6340, acc 78.91, best acc 85.94\n",
            "Completed 9.52%: Epoch/step [3/30 - 401/469], loss 0.6380, acc 82.03, best acc 85.94\n",
            "Completed 10.01%: Epoch/step [4/30 - 1/469], loss 0.5994, acc 82.81, best acc 85.94\n",
            "Completed 11.43%: Epoch/step [4/30 - 201/469], loss 0.5376, acc 88.28, best acc 88.28\n",
            "Completed 12.85%: Epoch/step [4/30 - 401/469], loss 0.5952, acc 85.94, best acc 88.28\n",
            "Completed 13.34%: Epoch/step [5/30 - 1/469], loss 0.6287, acc 77.34, best acc 88.28\n",
            "Completed 14.76%: Epoch/step [5/30 - 201/469], loss 0.6367, acc 82.81, best acc 88.28\n",
            "Completed 16.18%: Epoch/step [5/30 - 401/469], loss 0.6259, acc 82.81, best acc 88.28\n",
            "Completed 16.67%: Epoch/step [6/30 - 1/469], loss 0.6444, acc 85.94, best acc 88.28\n",
            "Completed 18.10%: Epoch/step [6/30 - 201/469], loss 0.6338, acc 77.34, best acc 88.28\n",
            "Completed 19.52%: Epoch/step [6/30 - 401/469], loss 0.6168, acc 85.16, best acc 88.28\n",
            "Completed 20.01%: Epoch/step [7/30 - 1/469], loss 0.6262, acc 81.25, best acc 88.28\n",
            "Completed 21.43%: Epoch/step [7/30 - 201/469], loss 0.5777, acc 85.94, best acc 88.28\n",
            "Completed 22.85%: Epoch/step [7/30 - 401/469], loss 0.6334, acc 79.69, best acc 88.28\n",
            "Completed 23.34%: Epoch/step [8/30 - 1/469], loss 0.5715, acc 82.03, best acc 88.28\n",
            "Completed 24.76%: Epoch/step [8/30 - 201/469], loss 0.5828, acc 83.59, best acc 88.28\n",
            "Completed 26.18%: Epoch/step [8/30 - 401/469], loss 0.6105, acc 83.59, best acc 88.28\n",
            "Completed 26.67%: Epoch/step [9/30 - 1/469], loss 0.5210, acc 86.72, best acc 88.28\n",
            "Completed 28.10%: Epoch/step [9/30 - 201/469], loss 0.5730, acc 88.28, best acc 88.28\n",
            "Completed 29.52%: Epoch/step [9/30 - 401/469], loss 0.7762, acc 74.22, best acc 88.28\n",
            "Completed 30.01%: Epoch/step [10/30 - 1/469], loss 0.7092, acc 75.78, best acc 88.28\n",
            "Completed 31.43%: Epoch/step [10/30 - 201/469], loss 0.5960, acc 85.94, best acc 88.28\n",
            "Completed 32.85%: Epoch/step [10/30 - 401/469], loss 0.6185, acc 86.72, best acc 88.28\n",
            "Completed 33.34%: Epoch/step [11/30 - 1/469], loss 0.6776, acc 77.34, best acc 88.28\n",
            "Completed 34.76%: Epoch/step [11/30 - 201/469], loss 0.5619, acc 87.50, best acc 88.28\n",
            "Completed 36.18%: Epoch/step [11/30 - 401/469], loss 0.6417, acc 84.38, best acc 88.28\n",
            "Completed 36.67%: Epoch/step [12/30 - 1/469], loss 0.6395, acc 81.25, best acc 88.28\n",
            "Completed 38.10%: Epoch/step [12/30 - 201/469], loss 0.5894, acc 82.81, best acc 88.28\n",
            "Completed 39.52%: Epoch/step [12/30 - 401/469], loss 0.6575, acc 82.03, best acc 88.28\n",
            "Completed 40.01%: Epoch/step [13/30 - 1/469], loss 0.6557, acc 82.03, best acc 88.28\n",
            "Completed 41.43%: Epoch/step [13/30 - 201/469], loss 0.5732, acc 86.72, best acc 88.28\n",
            "Completed 42.85%: Epoch/step [13/30 - 401/469], loss 0.6268, acc 82.81, best acc 88.28\n",
            "Completed 43.34%: Epoch/step [14/30 - 1/469], loss 0.5557, acc 87.50, best acc 88.28\n",
            "Completed 44.76%: Epoch/step [14/30 - 201/469], loss 0.5617, acc 85.16, best acc 88.28\n",
            "Completed 46.18%: Epoch/step [14/30 - 401/469], loss 0.6255, acc 80.47, best acc 88.28\n",
            "Completed 46.67%: Epoch/step [15/30 - 1/469], loss 0.4741, acc 89.06, best acc 89.06\n",
            "Completed 48.10%: Epoch/step [15/30 - 201/469], loss 0.5339, acc 87.50, best acc 89.06\n",
            "Completed 49.52%: Epoch/step [15/30 - 401/469], loss 0.5534, acc 81.25, best acc 89.06\n",
            "Completed 50.01%: Epoch/step [16/30 - 1/469], loss 0.5734, acc 85.94, best acc 89.06\n",
            "Completed 51.43%: Epoch/step [16/30 - 201/469], loss 0.6231, acc 82.81, best acc 89.06\n",
            "Completed 52.85%: Epoch/step [16/30 - 401/469], loss 0.6168, acc 80.47, best acc 89.06\n",
            "Completed 53.34%: Epoch/step [17/30 - 1/469], loss 0.6456, acc 78.12, best acc 89.06\n",
            "Completed 54.76%: Epoch/step [17/30 - 201/469], loss 0.5973, acc 82.03, best acc 89.06\n",
            "Completed 56.18%: Epoch/step [17/30 - 401/469], loss 0.5220, acc 85.16, best acc 89.06\n",
            "Completed 56.67%: Epoch/step [18/30 - 1/469], loss 0.6613, acc 81.25, best acc 89.06\n",
            "Completed 58.10%: Epoch/step [18/30 - 201/469], loss 0.5319, acc 87.50, best acc 89.06\n",
            "Completed 59.52%: Epoch/step [18/30 - 401/469], loss 0.6313, acc 82.81, best acc 89.06\n",
            "Completed 60.01%: Epoch/step [19/30 - 1/469], loss 0.6134, acc 82.81, best acc 89.06\n",
            "Completed 61.43%: Epoch/step [19/30 - 201/469], loss 0.6066, acc 85.94, best acc 89.06\n",
            "Completed 62.85%: Epoch/step [19/30 - 401/469], loss 0.5751, acc 85.16, best acc 89.06\n",
            "Completed 63.34%: Epoch/step [20/30 - 1/469], loss 0.5277, acc 85.16, best acc 89.06\n",
            "Completed 64.76%: Epoch/step [20/30 - 201/469], loss 0.7158, acc 78.91, best acc 89.06\n",
            "Completed 66.18%: Epoch/step [20/30 - 401/469], loss 0.5503, acc 86.72, best acc 89.06\n",
            "Completed 66.67%: Epoch/step [21/30 - 1/469], loss 0.7054, acc 79.69, best acc 89.06\n",
            "Completed 68.10%: Epoch/step [21/30 - 201/469], loss 0.6488, acc 75.78, best acc 89.06\n",
            "Completed 69.52%: Epoch/step [21/30 - 401/469], loss 0.6451, acc 84.38, best acc 89.06\n",
            "Completed 70.01%: Epoch/step [22/30 - 1/469], loss 0.6415, acc 77.34, best acc 89.06\n",
            "Completed 71.43%: Epoch/step [22/30 - 201/469], loss 0.6619, acc 79.69, best acc 89.06\n",
            "Completed 72.85%: Epoch/step [22/30 - 401/469], loss 0.6728, acc 79.69, best acc 89.06\n",
            "Completed 73.34%: Epoch/step [23/30 - 1/469], loss 0.6324, acc 82.03, best acc 89.06\n",
            "Completed 74.76%: Epoch/step [23/30 - 201/469], loss 0.5901, acc 84.38, best acc 89.06\n",
            "Completed 76.18%: Epoch/step [23/30 - 401/469], loss 0.5975, acc 83.59, best acc 89.06\n",
            "Completed 76.67%: Epoch/step [24/30 - 1/469], loss 0.6897, acc 77.34, best acc 89.06\n",
            "Completed 78.10%: Epoch/step [24/30 - 201/469], loss 0.6770, acc 82.03, best acc 89.06\n",
            "Completed 79.52%: Epoch/step [24/30 - 401/469], loss 0.6065, acc 84.38, best acc 89.06\n",
            "Completed 80.01%: Epoch/step [25/30 - 1/469], loss 0.5896, acc 83.59, best acc 89.06\n",
            "Completed 81.43%: Epoch/step [25/30 - 201/469], loss 0.6912, acc 82.03, best acc 89.06\n",
            "Completed 82.85%: Epoch/step [25/30 - 401/469], loss 0.5715, acc 84.38, best acc 89.06\n",
            "Completed 83.34%: Epoch/step [26/30 - 1/469], loss 0.5760, acc 84.38, best acc 89.06\n",
            "Completed 84.76%: Epoch/step [26/30 - 201/469], loss 0.6141, acc 82.03, best acc 89.06\n",
            "Completed 86.18%: Epoch/step [26/30 - 401/469], loss 0.5529, acc 85.16, best acc 89.06\n",
            "Completed 86.67%: Epoch/step [27/30 - 1/469], loss 0.6197, acc 79.69, best acc 89.06\n",
            "Completed 88.10%: Epoch/step [27/30 - 201/469], loss 0.6477, acc 77.34, best acc 89.06\n",
            "Completed 89.52%: Epoch/step [27/30 - 401/469], loss 0.6163, acc 85.16, best acc 89.06\n",
            "Completed 90.01%: Epoch/step [28/30 - 1/469], loss 0.7884, acc 74.22, best acc 89.06\n",
            "Completed 91.43%: Epoch/step [28/30 - 201/469], loss 0.6281, acc 82.03, best acc 89.06\n",
            "Completed 92.85%: Epoch/step [28/30 - 401/469], loss 0.5852, acc 83.59, best acc 89.06\n",
            "Completed 93.34%: Epoch/step [29/30 - 1/469], loss 0.5584, acc 84.38, best acc 89.06\n",
            "Completed 94.76%: Epoch/step [29/30 - 201/469], loss 0.6711, acc 79.69, best acc 89.06\n",
            "Completed 96.18%: Epoch/step [29/30 - 401/469], loss 0.6539, acc 82.81, best acc 89.06\n",
            "Completed 96.67%: Epoch/step [30/30 - 1/469], loss 0.6186, acc 83.59, best acc 89.06\n",
            "Completed 98.10%: Epoch/step [30/30 - 201/469], loss 0.6031, acc 82.03, best acc 89.06\n",
            "Completed 99.52%: Epoch/step [30/30 - 401/469], loss 0.5808, acc 82.81, best acc 89.06\n"
          ],
          "name": "stdout"
        },
        {
          "output_type": "display_data",
          "data": {
            "image/png": "[encoded data removed]",
            "text/plain": [
              "<Figure size 432x288 with 1 Axes>"
            ]
          },
          "metadata": {
            "tags": []
          }
        },
        {
          "output_type": "stream",
          "text": [
            "Model took 7.3842 mins (0.1231 hrs) to finish training with best train accuracy of 89.0625%\n"
          ],
          "name": "stdout"
        }
      ]
    },
    {
      "metadata": {
        "id": "bUXii0BC2nhZ",
        "colab_type": "text"
      },
      "cell_type": "markdown",
      "source": [
        "## 6. Test"
      ]
    },
    {
      "metadata": {
        "id": "q3Qlsqzo2nha",
        "colab_type": "code",
        "outputId": "6dffc841-769c-40b1-e470-0efcde353ce1",
        "colab": {
          "base_uri": "https://localhost:8080/",
          "height": 402
        }
      },
      "cell_type": "code",
      "source": [
        "# Testing doesn't require the use of gradients since weights aren't being updated\n",
        "model.eval()\n",
        "with torch.no_grad():\n",
        "    correct = 0\n",
        "    total = 0\n",
        "    \n",
        "    for img, label in mnist_test_dataloader:\n",
        "        img = torch.squeeze(img).to(device)\n",
        "        label = label.to(device)\n",
        "        \n",
        "        # Forward\n",
        "        out = model(img)\n",
        "        \n",
        "        # Test\n",
        "        _, predicted = torch.max(out.data, 1)\n",
        "        total += label.size(0)\n",
        "        correct += (predicted == label).sum().item()\n",
        "\n",
        "    # Accuracy\n",
        "    print('Test Accuracy: {:.4f} %'.format(100 * correct / total)) \n",
        "\n",
        "    # Show 4 test images\n",
        "    fig, axes = plt.subplots(nrows=2, ncols=2)\n",
        "    img_cpu = img.cpu()\n",
        "    label_cpu = label.cpu()\n",
        "    print(\"Shapes: img {}, label {}, predicted {}\".format(img_cpu.size(), label_cpu.size(), predicted.size()))\n",
        "    print(\"Label: {}\".format(label))\n",
        "    print(\"Predicted: {}\".format(predicted))\n",
        "    for i, ax in enumerate(axes.flat):\n",
        "      ax.imshow(img_cpu[i]) \n",
        "      ax.set_title('Target: {} - Prediction: {}'.format(label_cpu[i], predicted[i]))\n",
        "      ax.set_xticks([])\n",
        "      ax.set_yticks([])\n",
        "    plt.tight_layout()"
      ],
      "execution_count": 141,
      "outputs": [
        {
          "output_type": "stream",
          "text": [
            "/usr/local/lib/python3.6/dist-packages/ipykernel_launcher.py:34: UserWarning: Implicit dimension choice for log_softmax has been deprecated. Change the call to include dim=X as an argument.\n"
          ],
          "name": "stderr"
        },
        {
          "output_type": "stream",
          "text": [
            "Test Accuracy: 82.5300 %\n",
            "Shapes: img torch.Size([16, 28, 28]), label torch.Size([16]), predicted torch.Size([16])\n",
            "Label: tensor([2, 0, 0, 6, 2, 4, 9, 6, 2, 2, 7, 7, 0, 4, 8, 9], device='cuda:0')\n",
            "Predicted: tensor([2, 0, 0, 6, 2, 1, 9, 8, 2, 2, 7, 7, 0, 4, 5, 9], device='cuda:0')\n"
          ],
          "name": "stdout"
        },
        {
          "output_type": "display_data",
          "data": {
            "image/png": "[encoded data removed]",
            "text/plain": [
              "<Figure size 432x288 with 4 Axes>"
            ]
          },
          "metadata": {
            "tags": []
          }
        }
      ]
    },
    {
      "metadata": {
        "id": "LYYZW0YSYH2f",
        "colab_type": "text"
      },
      "cell_type": "markdown",
      "source": [
        "## 7. Summary\n",
        "*Steps per epoch on 128 batch_size = 469, using GPU*\n",
        "\n",
        "<table align=\"left\">\n",
        "  <tr>\n",
        "    <td><b>Model</b></td><td><b>Epoch</b></td><td align=\"center\"><b>Train Acc (%)</b></td><td align=\"center\"><b>Test Acc (%)</b></td><td align=\"center\"><b>Training Time (min)</b></td>\n",
        "  </tr>\n",
        "  <tr>\n",
        "    <td rowspan=\"2\">RNN</td><td>10</td><td align=\"center\">81.25</td><td align=\"center\">75.06</td><td align=\"center\">2.23</td>\n",
        "  </tr>\n",
        "  <tr>\n",
        "    <td>30</td><td align=\"center\">83.59</td><td align=\"center\">75.14</td><td align=\"center\">6.90</td>\n",
        "  </tr>\n",
        "  <tr>\n",
        "    <td rowspan=\"2\">LSTM</td><td>10</td><td align=\"center\">94.53</td><td align=\"center\">90.04</td><td align=\"center\">2.55</td>\n",
        "  </tr>\n",
        "  <tr>\n",
        "    <td>30</td><td align=\"center\">95.31</td><td align=\"center\">90.10</td><td align=\"center\">7.62</td>\n",
        "  </tr>\n",
        "  <tr>\n",
        "    <td rowspan=\"2\">GRU</td><td>10</td><td align=\"center\">97.66</td><td align=\"center\">92.45</td><td align=\"center\">2.47</td>\n",
        "  </tr>\n",
        "  <tr>\n",
        "    <td>30</td><td align=\"center\">89.06</td><td align=\"center\">82.53</td><td align=\"center\">7.38</td>\n",
        "  </tr>\n",
        "</table>"
      ]
    }
  ]
}