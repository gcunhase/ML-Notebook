{
  "nbformat": 4,
  "nbformat_minor": 0,
  "metadata": {
    "colab": {
      "name": "mlp_pytorch.ipynb",
      "version": "0.3.2",
      "provenance": [],
      "collapsed_sections": [],
      "include_colab_link": true
    },
    "kernelspec": {
      "name": "python3",
      "display_name": "Python 3"
    },
    "accelerator": "GPU"
  },
  "cells": [
    {
      "cell_type": "markdown",
      "metadata": {
        "id": "view-in-github",
        "colab_type": "text"
      },
      "source": [
        "<a href=\"https://colab.research.google.com/github/gcunhase/ML-Notebook/blob/master/models/mlp_pytorch.ipynb\" target=\"_parent\"><img src=\"https://colab.research.google.com/assets/colab-badge.svg\" alt=\"Open In Colab\"/></a>"
      ]
    },
    {
      "metadata": {
        "collapsed": true,
        "id": "jqZrGQOG2ng-",
        "colab_type": "text"
      },
      "cell_type": "markdown",
      "source": [
        "# MultiLayer Perceptron"
      ]
    },
    {
      "metadata": {
        "id": "EB7M0gMP2ng_",
        "colab_type": "text"
      },
      "cell_type": "markdown",
      "source": [
        "## 1. Libraries\n",
        "*Installing and importing necessary packages*\n",
        "\n",
        "*Working with **Python 3.6** and **PyTorch 1.0.1** *"
      ]
    },
    {
      "metadata": {
        "id": "Xdemin4U2nhA",
        "colab_type": "code",
        "colab": {}
      },
      "cell_type": "code",
      "source": [
        "import sys\n",
        "import os\n",
        "# !{sys.executable} -m pip install http://download.pytorch.org/whl/cu80/torch-0.4.0-cp36-cp36m-linux_x86_64.whl\n",
        "# !{sys.executable} -m pip install torch torchvision matplotlib\n",
        "!{sys.executable} -m pip install https://download.pytorch.org/whl/cu100/torch-1.0.1.post2-cp36-cp36m-linux_x86_64.whl\n",
        "!{sys.executable} -m pip install torchvision matplotlib\n",
        "\n",
        "import torch\n",
        "import torch.nn as nn\n",
        "import torchvision.datasets as datasets\n",
        "import torchvision.transforms as transforms\n",
        "import torch.nn.functional as F\n",
        "from torch.autograd import Variable\n",
        "\n",
        "%matplotlib inline\n",
        "import matplotlib\n",
        "import matplotlib.pyplot as plt\n",
        "import numpy as np\n",
        "\n",
        "from timeit import default_timer as timer\n",
        "\n",
        "print(\"PyTorch version: {}\".format(torch.__version__))\n",
        "cudnn_enabled = torch.backends.cudnn.enabled\n",
        "print(\"CuDNN enabled\" if cudnn_enabled else \"CuDNN disabled\")"
      ],
      "execution_count": 0,
      "outputs": []
    },
    {
      "metadata": {
        "id": "ateauqQT2nhF",
        "colab_type": "text"
      },
      "cell_type": "markdown",
      "source": [
        "## 2. Variables\n",
        "*Indicate the root directory where the data must be downloaded, the directory where the results should be saved and the type of RNN (conventional, LSTM, GRU) and its respective hyper-parameters*"
      ]
    },
    {
      "metadata": {
        "id": "Jt3gMpMY2nhG",
        "colab_type": "code",
        "outputId": "cd3b3fa6-02db-4cc7-d198-7cc9d10e454a",
        "colab": {
          "base_uri": "https://localhost:8080/",
          "height": 34
        }
      },
      "cell_type": "code",
      "source": [
        "# Make reproducible run\n",
        "torch.manual_seed(1)\n",
        "\n",
        "# Settable parameters\n",
        "params = {'root': './data/',\n",
        "          'results_dir': './results/',\n",
        "          'hidden_size': [1024, 2048],\n",
        "          'input_size': 784,  # MNIST data input (img shape: 28*28)\n",
        "          'lr': 1e-3,\n",
        "          'weight_decay': 1e-10, # 5e-4,  # 1e-10,\n",
        "          'momentum': 0.9,\n",
        "          'num_classes': 10,  # class 0-9\n",
        "          'batch_size': 128,\n",
        "          'optim_type': 'Adam',  # Options = [Adam, SGD, RMSprop]\n",
        "          'criterion_type': 'CrossEntropyLoss', # Options = [L1Loss, SmoothL1Loss, NLLLoss, CrossEntropyLoss]\n",
        "          'epochs': 15,\n",
        "          'save_step': 200,\n",
        "          'use_cuda': True,\n",
        "         }\n",
        "\n",
        "# GPU usage\n",
        "print(\"GPU: {}, number: {}\".format(torch.cuda.is_available(), torch.cuda.device_count()))\n",
        "device = torch.device('cuda') if params['use_cuda'] and torch.cuda.is_available() else torch.device('cpu')\n",
        "\n",
        "# Ensure results directory exists\n",
        "if not os.path.exists(params['results_dir']):\n",
        "    os.mkdir(params['results_dir'])"
      ],
      "execution_count": 17,
      "outputs": [
        {
          "output_type": "stream",
          "text": [
            "GPU: True, number: 1\n"
          ],
          "name": "stdout"
        }
      ]
    },
    {
      "metadata": {
        "id": "BamOukfB2nhL",
        "colab_type": "text"
      },
      "cell_type": "markdown",
      "source": [
        "## 3. Dataset\n",
        "\n",
        "*Normalizing between (0.1307, 0.3081): global mean and standard deviation of the MNIST dataset*"
      ]
    },
    {
      "metadata": {
        "id": "jpbW8mtb2nhN",
        "colab_type": "code",
        "outputId": "9d5d2d71-86ef-4184-d1d5-55c13b1b8537",
        "colab": {
          "base_uri": "https://localhost:8080/",
          "height": 34
        }
      },
      "cell_type": "code",
      "source": [
        "# Get train and test datasets\n",
        "# trans = transforms.Compose([transforms.ToTensor(), transforms.Normalize((0.5,), (1.0,))])\n",
        "trans = transforms.Compose([transforms.ToTensor(), transforms.Normalize((0.1307,), (0.3081,))])\n",
        "# trans = transforms.Compose([transforms.ToTensor()])\n",
        "mnist_train = datasets.MNIST(\n",
        "    root=params['root'],  # directory where the data is or where it will be saved\n",
        "    train=True,  # train dataset\n",
        "    download=True,  # download if you don't have it\n",
        "    transform=trans)  # converts PIL.image or np.ndarray to torch.FloatTensor of shape (C, H, W) and normalizes from (0.0, 1.0)\n",
        "mnist_test = datasets.MNIST(root=params['root'], train=False, download=True, transform=trans)  # transforms.ToTensor()\n",
        "print(\"MNIST Train {}, Test {}\".format(len(mnist_train), len(mnist_test)))\n",
        "\n",
        "# Dataloader: mini-batch during training\n",
        "mnist_train_dataloader = torch.utils.data.DataLoader(dataset=mnist_train, batch_size=params['batch_size'], shuffle=True)\n",
        "mnist_test_dataloader = torch.utils.data.DataLoader(dataset=mnist_test, batch_size=params['batch_size'], shuffle=True)"
      ],
      "execution_count": 18,
      "outputs": [
        {
          "output_type": "stream",
          "text": [
            "MNIST Train 60000, Test 10000\n"
          ],
          "name": "stdout"
        }
      ]
    },
    {
      "metadata": {
        "id": "QhKhpBRaU4b4",
        "colab_type": "text"
      },
      "cell_type": "markdown",
      "source": [
        "*Dataset examples*"
      ]
    },
    {
      "metadata": {
        "id": "ikWHBC-2U6-B",
        "colab_type": "code",
        "outputId": "ee7d39d0-a513-4361-d3ea-83b720b2a377",
        "colab": {
          "base_uri": "https://localhost:8080/",
          "height": 140
        }
      },
      "cell_type": "code",
      "source": [
        "# Plot examples\n",
        "examples = enumerate(mnist_test_dataloader)\n",
        "batch_idx, (example_data, example_targets) = next(examples)\n",
        "\n",
        "fig, axes = plt.subplots(nrows=1, ncols=4)\n",
        "for i, ax in enumerate(axes.flat):\n",
        "  ax.imshow(example_data[i][0]) \n",
        "  ax.set_title('{}'.format(example_targets[i]))\n",
        "  ax.set_xticks([])\n",
        "  ax.set_yticks([])\n",
        "  plt.tight_layout()"
      ],
      "execution_count": 19,
      "outputs": [
        {
          "output_type": "display_data",
          "data": {
            "image/png": "[encoded data removed]",
            "text/plain": [
              "<Figure size 432x288 with 4 Axes>"
            ]
          },
          "metadata": {
            "tags": []
          }
        }
      ]
    },
    {
      "metadata": {
        "id": "dWCCngwF2nhS",
        "colab_type": "text"
      },
      "cell_type": "markdown",
      "source": [
        "## 4. The Model: MLP\n",
        "$y_t = \\sigma(W x_t)$"
      ]
    },
    {
      "metadata": {
        "id": "N2UAizM92nhT",
        "colab_type": "code",
        "colab": {}
      },
      "cell_type": "code",
      "source": [
        "class MLP(nn.Module):\n",
        "    def __init__(self):\n",
        "        super(MLP, self).__init__()\n",
        "        self.input_size = params['input_size']\n",
        "        self.hidden_size = params['hidden_size']\n",
        "        self.mlp = nn.Sequential(\n",
        "            nn.Linear(self.input_size, self.hidden_size[0]),\n",
        "            nn.Linear(self.hidden_size[0], self.hidden_size[1]),\n",
        "            nn.Linear(self.hidden_size[1], params['num_classes'])\n",
        "        )\n",
        "        self.softmax = nn.LogSoftmax()  # nn.ReLU()  # nn.LogSoftmax()  # Softmax()\n",
        "        \n",
        "    def forward(self, x):           \n",
        "        out = self.mlp(x)\n",
        "        out = self.softmax(out)\n",
        "        return out"
      ],
      "execution_count": 0,
      "outputs": []
    },
    {
      "metadata": {
        "id": "cw-AqMCfOgPN",
        "colab_type": "text"
      },
      "cell_type": "markdown",
      "source": [
        "*Instantiate model and optimizer*"
      ]
    },
    {
      "metadata": {
        "id": "9T6W1JeOOlTW",
        "colab_type": "code",
        "outputId": "116e71fc-f672-4a88-8b4a-15debb207249",
        "colab": {
          "base_uri": "https://localhost:8080/",
          "height": 34
        }
      },
      "cell_type": "code",
      "source": [
        "# Instantiate model\n",
        "model = MLP()\n",
        "\n",
        "# Transfer model to device (CPU or GPU according to your preference and what's available)\n",
        "model = model.to(device)\n",
        "\n",
        "# Loss criterion\n",
        "if 'CrossEntropyLoss' in params['criterion_type']:\n",
        "  criterion = nn.CrossEntropyLoss()\n",
        "elif 'L1Loss' in params['criterion_type']:\n",
        "  criterion = nn.L1Loss()\n",
        "elif 'SmoothL1Loss' in params['criterion_type']:\n",
        "  criterion = nn.SmoothL1Loss()\n",
        "else:  # NLLLoss\n",
        "  criterion = nn.NLLLoss()  \n",
        "\n",
        "# Optimizer\n",
        "if 'Adam' in params['optim_type']:\n",
        "  optimizer = torch.optim.Adam(model.parameters(), lr=params['lr'], weight_decay=params['weight_decay'])\n",
        "elif 'SGD' in params['optim_type']:\n",
        "  optimizer = torch.optim.SGD(model.parameters(), lr=params['lr'], weight_decay=params['weight_decay'], momentum=params['momentum'])\n",
        "elif 'RMSprop' in params['optim_type']:\n",
        "  optimizer = torch.optim.RMSprop(model.parameters(), lr=params['lr'], weight_decay=params['weight_decay'], momentum=params['momentum'])\n",
        "\n",
        "# New results dir based on model's parameters\n",
        "res_dir = params['results_dir'] + 'mlp_{}_{}_lr{}_weight{}_trainSize_{}_testSize_{}/'.\\\n",
        "    format(params['criterion_type'], params['optim_type'], params['lr'], params['weight_decay'], len(mnist_train), len(mnist_test))\n",
        "\n",
        "if not os.path.exists(res_dir):\n",
        "    os.mkdir(res_dir)\n",
        "\n",
        "print(\"res_dir: {}\".format(res_dir))\n",
        "log_file = open(res_dir + 'log.txt', 'w')"
      ],
      "execution_count": 21,
      "outputs": [
        {
          "output_type": "stream",
          "text": [
            "res_dir: ./results/mlp_CrossEntropyLoss_Adam_lr0.001_weight1e-10_trainSize_60000_testSize_10000/\n"
          ],
          "name": "stdout"
        }
      ]
    },
    {
      "metadata": {
        "id": "t7ZCKLry2nhV",
        "colab_type": "text"
      },
      "cell_type": "markdown",
      "source": [
        "## 5. Train"
      ]
    },
    {
      "metadata": {
        "id": "qaLuhdcu2nhW",
        "colab_type": "code",
        "colab": {}
      },
      "cell_type": "code",
      "source": [
        "start_timer = timer()\n",
        "\n",
        "loss_arr = []\n",
        "train_acc_arr = []\n",
        "first_time = True\n",
        "total_num_steps = len(mnist_train_dataloader)\n",
        "\n",
        "# model.train()\n",
        "model.zero_grad()\n",
        "optimizer.zero_grad()\n",
        "for e in range(1, params['epochs']+1):\n",
        "    for i, (img, label) in enumerate(mnist_train_dataloader):\n",
        "        img = Variable(torch.squeeze(img)).to(device)\n",
        "        img = img.view(-1, params['input_size'])\n",
        "        label = Variable(label).to(device)\n",
        "        \n",
        "        # Forward\n",
        "        out = model(img)\n",
        "        loss = criterion(out, label)\n",
        "        \n",
        "        # Backward\n",
        "        optimizer.zero_grad()\n",
        "        loss.backward()\n",
        "        optimizer.step()\n",
        "        \n",
        "        loss_arr.append(loss.item())\n",
        "        \n",
        "        if i % params['save_step'] == 0:\n",
        "            # Train Accuracy\n",
        "            _, predicted = torch.max(out.data, 1)\n",
        "            total = label.size(0)\n",
        "            correct = (predicted == label).sum().item()\n",
        "            acc = 100 * correct / total\n",
        "            train_acc_arr.append(acc)\n",
        "            # Print update\n",
        "            perc = 100 * ((e-1)*total_num_steps + (i+1))/float(params['epochs'] * total_num_steps)\n",
        "            str_res = \"Completed {:.2f}%: Epoch/step [{}/{} - {}/{}], loss {:.4f}, acc {:.2f}, best acc {:.2f}\".format(perc, e, params['epochs'], i+1, total_num_steps, loss.item(), acc, max(train_acc_arr))\n",
        "            print(str_res)\n",
        "            # Save log\n",
        "            log_file.write(str_res)\n",
        "            \n",
        "# Save model checkpoint\n",
        "torch.save(model.state_dict(), res_dir + 'model.ckpt')\n",
        "plt.show()\n",
        "log_file.close()\n",
        "\n",
        "end_timer = timer() - start_timer\n",
        "print(\"Model took {:.4f} mins ({:.4f} hrs) to finish training with best train accuracy of {:.4f}%\".format(end_timer/60, end_timer/3600, max(train_acc_arr)))"
      ],
      "execution_count": 0,
      "outputs": []
    },
    {
      "metadata": {
        "id": "h9iBENdtaX_o",
        "colab_type": "text"
      },
      "cell_type": "markdown",
      "source": [
        "*Plot training loss curve*"
      ]
    },
    {
      "metadata": {
        "id": "zMRvLLKPX63B",
        "colab_type": "code",
        "colab": {
          "base_uri": "https://localhost:8080/",
          "height": 265
        },
        "outputId": "56fe4381-c4a6-4b18-fb5c-80d24fa50b87"
      },
      "cell_type": "code",
      "source": [
        "# Save training loss\n",
        "plt.plot(loss_arr)\n",
        "# plt.semilogy(range(len(loss_arr)), loss_arr)\n",
        "plt.savefig(res_dir + 'loss.png')"
      ],
      "execution_count": 25,
      "outputs": [
        {
          "output_type": "display_data",
          "data": {
            "image/png": "[encoded data removed]",
            "text/plain": [
              "<Figure size 432x288 with 1 Axes>"
            ]
          },
          "metadata": {
            "tags": []
          }
        }
      ]
    },
    {
      "metadata": {
        "id": "bUXii0BC2nhZ",
        "colab_type": "text"
      },
      "cell_type": "markdown",
      "source": [
        "## 6. Test"
      ]
    },
    {
      "metadata": {
        "id": "q3Qlsqzo2nha",
        "colab_type": "code",
        "outputId": "776414c0-e9de-46a7-f14a-54e2f8c67f0d",
        "colab": {
          "base_uri": "https://localhost:8080/",
          "height": 382
        }
      },
      "cell_type": "code",
      "source": [
        "# Testing doesn't require the use of gradients since weights aren't being updated\n",
        "model.eval()\n",
        "with torch.no_grad():\n",
        "    correct = 0\n",
        "    total = 0\n",
        "    \n",
        "    for img, label in mnist_test_dataloader:\n",
        "        img = torch.squeeze(img).to(device)\n",
        "        img = img.view(-1, params['input_size'])\n",
        "        label = label.to(device)\n",
        "        \n",
        "        # Forward\n",
        "        out = model(img)\n",
        "        \n",
        "        # Test\n",
        "        _, predicted = torch.max(out.data, 1)\n",
        "        total += label.size(0)\n",
        "        correct += (predicted == label).sum().item()\n",
        "\n",
        "    # Accuracy\n",
        "    print('Test Accuracy: {:.4f} %'.format(100 * correct / total)) \n",
        "\n",
        "    # Show 4 test images\n",
        "    fig, axes = plt.subplots(nrows=2, ncols=2)\n",
        "    img_cpu = img.cpu()\n",
        "    label_cpu = label.cpu()\n",
        "    print(\"Label: {}\".format(label))\n",
        "    print(\"Predicted: {}\".format(predicted))\n",
        "    for i, ax in enumerate(axes.flat):\n",
        "      img_cpu_i = img_cpu[i]\n",
        "      img_cpu_i = img_cpu_i.view(28, 28)\n",
        "      ax.imshow(img_cpu_i) \n",
        "      ax.set_title('Target: {} - Prediction: {}'.format(label_cpu[i], predicted[i]))\n",
        "      ax.set_xticks([])\n",
        "      ax.set_yticks([])\n",
        "    plt.tight_layout()"
      ],
      "execution_count": 29,
      "outputs": [
        {
          "output_type": "stream",
          "text": [
            "/usr/local/lib/python3.6/dist-packages/ipykernel_launcher.py:15: UserWarning: Implicit dimension choice for log_softmax has been deprecated. Change the call to include dim=X as an argument.\n",
            "  from ipykernel import kernelapp as app\n"
          ],
          "name": "stderr"
        },
        {
          "output_type": "stream",
          "text": [
            "Test Accuracy: 90.6600 %\n",
            "Label: tensor([7, 2, 6, 2, 7, 1, 3, 0, 8, 6, 3, 0, 4, 7, 7, 9], device='cuda:0')\n",
            "Predicted: tensor([7, 2, 6, 2, 7, 1, 3, 0, 8, 5, 5, 0, 4, 7, 7, 9], device='cuda:0')\n"
          ],
          "name": "stdout"
        },
        {
          "output_type": "display_data",
          "data": {
            "image/png": "[encoded data removed]",
            "text/plain": [
              "<Figure size 432x288 with 4 Axes>"
            ]
          },
          "metadata": {
            "tags": []
          }
        }
      ]
    }
  ]
}